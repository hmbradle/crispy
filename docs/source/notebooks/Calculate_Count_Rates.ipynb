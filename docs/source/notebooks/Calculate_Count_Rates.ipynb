{
 "cells": [
  {
   "cell_type": "markdown",
   "metadata": {},
   "source": [
    "# Using spectral catalog in crispy"
   ]
  },
  {
   "cell_type": "code",
   "execution_count": 6,
   "metadata": {
    "ExecuteTime": {
     "end_time": "2018-09-18T22:39:57.804665Z",
     "start_time": "2018-09-18T22:39:57.799129Z"
    },
    "collapsed": true
   },
   "outputs": [],
   "source": [
    "from crispy.tools.inputScene import bpgs_list"
   ]
  },
  {
   "cell_type": "code",
   "execution_count": 2,
   "metadata": {
    "ExecuteTime": {
     "end_time": "2018-09-18T22:39:00.423149Z",
     "start_time": "2018-09-18T22:39:00.417229Z"
    }
   },
   "outputs": [
    {
     "name": "stdout",
     "output_type": "stream",
     "text": [
      "Help on function bpgs_list in module crispy.tools.inputScene:\n",
      "\n",
      "bpgs_list(spectype=None, verbose=True)\n",
      "    Returns pandas dataframe with the list of the files, the name and the type of the star\n",
      "\n"
     ]
    }
   ],
   "source": [
    "help(bpgs_list)"
   ]
  },
  {
   "cell_type": "code",
   "execution_count": 3,
   "metadata": {
    "ExecuteTime": {
     "end_time": "2018-09-18T22:39:00.466881Z",
     "start_time": "2018-09-18T22:39:00.427572Z"
    }
   },
   "outputs": [
    {
     "name": "stdout",
     "output_type": "stream",
     "text": [
      "           File        Name Type\n",
      "35  bpgs_36.tab  BD+26D3780  G0V\n"
     ]
    },
    {
     "data": {
      "text/html": [
       "<div>\n",
       "<style scoped>\n",
       "    .dataframe tbody tr th:only-of-type {\n",
       "        vertical-align: middle;\n",
       "    }\n",
       "\n",
       "    .dataframe tbody tr th {\n",
       "        vertical-align: top;\n",
       "    }\n",
       "\n",
       "    .dataframe thead th {\n",
       "        text-align: right;\n",
       "    }\n",
       "</style>\n",
       "<table border=\"1\" class=\"dataframe\">\n",
       "  <thead>\n",
       "    <tr style=\"text-align: right;\">\n",
       "      <th></th>\n",
       "      <th>File</th>\n",
       "      <th>Name</th>\n",
       "      <th>Type</th>\n",
       "    </tr>\n",
       "  </thead>\n",
       "  <tbody>\n",
       "    <tr>\n",
       "      <th>35</th>\n",
       "      <td>bpgs_36.tab</td>\n",
       "      <td>BD+26D3780</td>\n",
       "      <td>G0V</td>\n",
       "    </tr>\n",
       "  </tbody>\n",
       "</table>\n",
       "</div>"
      ],
      "text/plain": [
       "           File        Name Type\n",
       "35  bpgs_36.tab  BD+26D3780  G0V"
      ]
     },
     "execution_count": 3,
     "metadata": {},
     "output_type": "execute_result"
    }
   ],
   "source": [
    "bpgs_list('G0V')"
   ]
  },
  {
   "cell_type": "markdown",
   "metadata": {},
   "source": [
    "## From spectral type to photon/s/m2"
   ]
  },
  {
   "cell_type": "code",
   "execution_count": 7,
   "metadata": {
    "ExecuteTime": {
     "end_time": "2018-09-18T22:39:59.230309Z",
     "start_time": "2018-09-18T22:39:59.224402Z"
    }
   },
   "outputs": [
    {
     "name": "stdout",
     "output_type": "stream",
     "text": [
      "Help on function bpgs_spectype_to_photonrate in module crispy.tools.inputScene:\n",
      "\n",
      "bpgs_spectype_to_photonrate(spectype, Vmag, minlam, maxlam)\n",
      "    Parameters\n",
      "    ----------\n",
      "    spectype: string\n",
      "        String representing the spectral type of the star\n",
      "    Vmag: float\n",
      "        V magnitude of star\n",
      "    minlam: float\n",
      "        Minimum wavelength of the band in nm    \n",
      "    maxlam: float\n",
      "        Maximum wavelength of the band in nm    \n",
      "    \n",
      "    Returns\n",
      "    -------\n",
      "    val: Quantity\n",
      "        Photons/second/m2 coming from the star within the band\n",
      "\n"
     ]
    }
   ],
   "source": [
    "from crispy.tools.inputScene import bpgs_spectype_to_photonrate\n",
    "help(bpgs_spectype_to_photonrate)"
   ]
  },
  {
   "cell_type": "code",
   "execution_count": 8,
   "metadata": {
    "ExecuteTime": {
     "end_time": "2018-09-18T22:40:18.638881Z",
     "start_time": "2018-09-18T22:40:18.601863Z"
    }
   },
   "outputs": [
    {
     "name": "stdout",
     "output_type": "stream",
     "text": [
      "1.338699e+10 ph\n",
      "Compare to 1.38e10 ph in John Krist OS6, 3.09% difference\n"
     ]
    }
   ],
   "source": [
    "import astropy.units as u\n",
    "import numpy as np\n",
    "phcount = bpgs_spectype_to_photonrate('G0V',5,546.,604.)*3.6825*u.m**2*120*u.s*0.57*0.9\n",
    "print ('{:e}'.format(phcount))\n",
    "print ('Compare to 1.38e10 ph in John Krist OS6, {:.2f}% difference'.format(100*np.abs(phcount-1.38e10*u.ph)/phcount))"
   ]
  },
  {
   "cell_type": "markdown",
   "metadata": {},
   "source": [
    "## Other functions available"
   ]
  },
  {
   "cell_type": "code",
   "execution_count": 10,
   "metadata": {
    "ExecuteTime": {
     "end_time": "2018-09-18T22:41:20.419308Z",
     "start_time": "2018-09-18T22:41:20.414186Z"
    },
    "collapsed": true
   },
   "outputs": [],
   "source": [
    "from crispy.tools.inputScene import bpgs_to_photonrate,bpgsfile_to_photonrate"
   ]
  },
  {
   "cell_type": "markdown",
   "metadata": {},
   "source": [
    "### From file number to photon rate"
   ]
  },
  {
   "cell_type": "code",
   "execution_count": 11,
   "metadata": {
    "ExecuteTime": {
     "end_time": "2018-09-18T22:41:21.660595Z",
     "start_time": "2018-09-18T22:41:21.655004Z"
    }
   },
   "outputs": [
    {
     "name": "stdout",
     "output_type": "stream",
     "text": [
      "Help on function bpgs_to_photonrate in module crispy.tools.inputScene:\n",
      "\n",
      "bpgs_to_photonrate(specnum, Vmag, minlam, maxlam)\n",
      "    Parameters\n",
      "    ----------\n",
      "    specnum: int\n",
      "        Number of spectrum file from bpgs folder (in crispy/Input/bpgs folder)\n",
      "    Vmag: float\n",
      "        V magnitude of star\n",
      "    minlam: float\n",
      "        Minimum wavelength of the band in nm    \n",
      "    maxlam: float\n",
      "        Maximum wavelength of the band in nm    \n",
      "    \n",
      "    Returns\n",
      "    -------\n",
      "    val: Quantity\n",
      "        Photons/second/m2 coming from the star within the band\n",
      "\n"
     ]
    }
   ],
   "source": [
    "help(bpgs_to_photonrate)"
   ]
  },
  {
   "cell_type": "code",
   "execution_count": 12,
   "metadata": {
    "ExecuteTime": {
     "end_time": "2018-09-18T22:42:05.258868Z",
     "start_time": "2018-09-18T22:42:05.227439Z"
    }
   },
   "outputs": [
    {
     "name": "stdout",
     "output_type": "stream",
     "text": [
      "1.338699e+10 ph\n",
      "Compare to 1.38e10 ph in John Krist OS6, 3.09% difference\n"
     ]
    }
   ],
   "source": [
    "import astropy.units as u\n",
    "import numpy as np\n",
    "phcount = bpgs_to_photonrate(36,5,546.,604.)*3.6825*u.m**2*120*u.s*0.57*0.9\n",
    "print ('{:e}'.format(phcount))\n",
    "print ('Compare to 1.38e10 ph in John Krist OS6, {:.2f}% difference'.format(100*np.abs(phcount-1.38e10*u.ph)/phcount))"
   ]
  },
  {
   "cell_type": "markdown",
   "metadata": {},
   "source": [
    "### From spectral filename to photon rate"
   ]
  },
  {
   "cell_type": "code",
   "execution_count": 13,
   "metadata": {
    "ExecuteTime": {
     "end_time": "2018-09-18T22:43:06.637370Z",
     "start_time": "2018-09-18T22:43:06.631740Z"
    }
   },
   "outputs": [
    {
     "name": "stdout",
     "output_type": "stream",
     "text": [
      "Help on function bpgsfile_to_photonrate in module crispy.tools.inputScene:\n",
      "\n",
      "bpgsfile_to_photonrate(filename, Vmag, minlam, maxlam)\n",
      "    Parameters\n",
      "    ----------\n",
      "    filename: string\n",
      "        Text file corresponding to the bpgs specturm in pysynphot catalog\n",
      "    Vmag: float\n",
      "        V magnitude of star\n",
      "    minlam: float\n",
      "        Minimum wavelength of the band in nm    \n",
      "    maxlam: float\n",
      "        Maximum wavelength of the band in nm    \n",
      "    \n",
      "    Returns\n",
      "    -------\n",
      "    val: Quantity\n",
      "        Photons/second/m2 coming from the star within the band\n",
      "\n"
     ]
    }
   ],
   "source": [
    "help(bpgsfile_to_photonrate)"
   ]
  },
  {
   "cell_type": "code",
   "execution_count": 14,
   "metadata": {
    "ExecuteTime": {
     "end_time": "2018-09-18T22:43:07.978272Z",
     "start_time": "2018-09-18T22:43:07.945511Z"
    }
   },
   "outputs": [
    {
     "name": "stdout",
     "output_type": "stream",
     "text": [
      "1.338699e+10 ph\n",
      "Compare to 1.38e10 ph in John Krist OS6, 3.09% difference\n"
     ]
    }
   ],
   "source": [
    "import astropy.units as u\n",
    "import numpy as np\n",
    "import pkg_resources\n",
    "fname = pkg_resources.resource_filename('crispy', 'Inputs') + '/bpgs/bpgs_36.fits'\n",
    "phcount = bpgsfile_to_photonrate(fname,5,546.,604.)*3.6825*u.m**2*120*u.s*0.57*0.9\n",
    "print ('{:e}'.format(phcount))\n",
    "print ('Compare to 1.38e10 ph in John Krist OS6, {:.2f}% difference'.format(100*np.abs(phcount-1.38e10*u.ph)/phcount))"
   ]
  },
  {
   "cell_type": "markdown",
   "metadata": {},
   "source": [
    "## Calculate input stellar spectrum"
   ]
  },
  {
   "cell_type": "code",
   "execution_count": 15,
   "metadata": {
    "ExecuteTime": {
     "end_time": "2018-09-18T22:43:57.590197Z",
     "start_time": "2018-09-18T22:43:57.586832Z"
    },
    "collapsed": true
   },
   "outputs": [],
   "source": [
    "from crispy.tools.inputScene import input_star"
   ]
  },
  {
   "cell_type": "code",
   "execution_count": 16,
   "metadata": {
    "ExecuteTime": {
     "end_time": "2018-09-18T22:44:03.788346Z",
     "start_time": "2018-09-18T22:44:03.782908Z"
    }
   },
   "outputs": [
    {
     "name": "stdout",
     "output_type": "stream",
     "text": [
      "Help on function input_star in module crispy.tools.inputScene:\n",
      "\n",
      "input_star(filename, Vmag, wavel)\n",
      "    Parameters\n",
      "    ----------\n",
      "    filename: string\n",
      "        Text file corresponding to the bpgs specturm in pysynphot catalog\n",
      "    Vmag: float\n",
      "        V magnitude of star\n",
      "    wavel: array\n",
      "        Array of desired wavelengths in microns\n",
      "        \n",
      "    Returns\n",
      "    -------\n",
      "    val: Quantity\n",
      "        Photons/second/m2/nm coming from the star for each input wavelength bin\n",
      "\n"
     ]
    }
   ],
   "source": [
    "help(input_star)"
   ]
  },
  {
   "cell_type": "code",
   "execution_count": 19,
   "metadata": {
    "ExecuteTime": {
     "end_time": "2018-09-18T22:45:51.465791Z",
     "start_time": "2018-09-18T22:45:51.293913Z"
    }
   },
   "outputs": [
    {
     "name": "stdout",
     "output_type": "stream",
     "text": [
      "Populating the interactive namespace from numpy and matplotlib\n"
     ]
    },
    {
     "data": {
      "text/plain": [
       "[<matplotlib.lines.Line2D at 0x18166331d0>]"
      ]
     },
     "execution_count": 19,
     "metadata": {},
     "output_type": "execute_result"
    },
    {
     "data": {
      "image/png": "[encoded data removed]",
      "text/plain": [
       "<matplotlib.figure.Figure at 0x181240edd0>"
      ]
     },
     "metadata": {},
     "output_type": "display_data"
    }
   ],
   "source": [
    "%pylab inline\n",
    "wavel = np.arange(300.,1200.)\n",
    "fname = pkg_resources.resource_filename('crispy', 'Inputs') + '/bpgs/bpgs_36.fits'\n",
    "spectrum = input_star(fname,5,wavel)\n",
    "plt.plot(wavel,spectrum)\n",
    "plt.xlabel('Wavelength (nm)')"
   ]
  }
 ],
 "metadata": {
  "kernelspec": {
   "display_name": "Python 2",
   "language": "python",
   "name": "python2"
  },
  "language_info": {
   "codemirror_mode": {
    "name": "ipython",
    "version": 2
   },
   "file_extension": ".py",
   "mimetype": "text/x-python",
   "name": "python",
   "nbconvert_exporter": "python",
   "pygments_lexer": "ipython2",
   "version": "2.7.15"
  },
  "latex_envs": {
   "LaTeX_envs_menu_present": true,
   "autoclose": false,
   "autocomplete": true,
   "bibliofile": "biblio.bib",
   "cite_by": "apalike",
   "current_citInitial": 1,
   "eqLabelWithNumbers": true,
   "eqNumInitial": 1,
   "hotkeys": {
    "equation": "Ctrl-E",
    "itemize": "Ctrl-I"
   },
   "labels_anchors": false,
   "latex_user_defs": false,
   "report_style_numbering": false,
   "user_envs_cfg": false
  },
  "toc": {
   "nav_menu": {},
   "number_sections": true,
   "sideBar": true,
   "skip_h1_title": false,
   "title_cell": "Table of Contents",
   "title_sidebar": "Contents",
   "toc_cell": false,
   "toc_position": {},
   "toc_section_display": true,
   "toc_window_display": false
  },
  "varInspector": {
   "cols": {
    "lenName": 16,
    "lenType": 16,
    "lenVar": 40
   },
   "kernels_config": {
    "python": {
     "delete_cmd_postfix": "",
     "delete_cmd_prefix": "del ",
     "library": "var_list.py",
     "varRefreshCmd": "print(var_dic_list())"
    },
    "r": {
     "delete_cmd_postfix": ") ",
     "delete_cmd_prefix": "rm(",
     "library": "var_list.r",
     "varRefreshCmd": "cat(var_dic_list()) "
    }
   },
   "types_to_exclude": [
    "module",
    "function",
    "builtin_function_or_method",
    "instance",
    "_Feature"
   ],
   "window_display": false
  }
 },
 "nbformat": 4,
 "nbformat_minor": 2
}
