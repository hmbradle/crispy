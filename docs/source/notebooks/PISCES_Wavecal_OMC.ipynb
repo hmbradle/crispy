{
 "cells": [
  {
   "cell_type": "code",
   "execution_count": 1,
   "metadata": {
    "ExecuteTime": {
     "end_time": "2019-01-29T14:45:13.932694Z",
     "start_time": "2019-01-29T14:45:12.828668Z"
    }
   },
   "outputs": [
    {
     "name": "stdout",
     "output_type": "stream",
     "text": [
      "Populating the interactive namespace from numpy and matplotlib\n"
     ]
    }
   ],
   "source": [
    "import numpy as np\n",
    "import glob\n",
    "from astropy.io import fits\n",
    "%pylab inline --no-import-all\n",
    "plt.rc('font', family='serif', serif='Times',size=20)\n",
    "plt.rc('text', usetex=True)\n",
    "plt.rc('xtick', labelsize=20)\n",
    "plt.rc('xtick.major', size=10)\n",
    "plt.rc('ytick.major', size=10)\n",
    "plt.rc('ytick', labelsize=20)\n",
    "plt.rc('axes', labelsize=20)\n",
    "plt.rc('figure',titlesize=20)\n",
    "plt.rc('image',origin='lower',interpolation='nearest')\n",
    "\n",
    "import sys\n",
    "import os"
   ]
  },
  {
   "cell_type": "code",
   "execution_count": 2,
   "metadata": {
    "ExecuteTime": {
     "end_time": "2019-01-29T14:45:27.067164Z",
     "start_time": "2019-01-29T14:45:27.035490Z"
    }
   },
   "outputs": [
    {
     "data": {
      "text/plain": [
       "SIMPLE  =                    T / conforms to FITS standard                      \n",
       "BITPIX  =                    8 / array data type                                \n",
       "NAXIS   =                    0 / number of array dimensions                     \n",
       "EXTEND  =                    T                                                  \n",
       "COMMENT                                                                         \n",
       "COMMENT ************************************************************            \n",
       "COMMENT ********************** General parameters ******************            \n",
       "COMMENT ************************************************************            \n",
       "COMMENT                                                                         \n",
       "NLENS   =                  108 / # lenslets across array                        \n",
       "PITCH   =             0.000174 / Lenslet pitch (meters)                         \n",
       "INTERLAC=                    2 / Interlacing                                    \n",
       "PHILENS =    26.56505117707799 / Rotation angle of the lenslets (deg)           \n",
       "PIXSIZE =              1.3E-05 / Pixel size (meters)                            \n",
       "LENSAMP =                  0.5 / Lenslet sampling (lam/D)                       \n",
       "LSAMPWAV=                600.0 / Lenslet sampling wavelength (nm)               \n",
       "FWHM    =                    2 / FHWM of PSFLet at detector (pixels)            \n",
       "FWHMLAM =                660.0 / Wavelength at which FWHM is defined (nm)       \n",
       "NPIX    =                 1024 / Number of detector pixels                      \n",
       "DISPDIST=                    F / Use PISCES distortion/dispersion?              "
      ]
     },
     "execution_count": 2,
     "metadata": {},
     "output_type": "execute_result"
    }
   ],
   "source": [
    "os.chdir('/Users/mrizzo/IFS/crispy/crispy/PISCES/')\n",
    "\n",
    "import logging as log\n",
    "from crispy.tools.initLogger import getLogger\n",
    "log = getLogger('crispy')\n",
    "from crispy.tools.image import Image\n",
    "from params import Params\n",
    "par = Params()\n",
    "par.hdr"
   ]
  },
  {
   "cell_type": "code",
   "execution_count": 3,
   "metadata": {
    "ExecuteTime": {
     "end_time": "2019-01-29T14:46:40.283128Z",
     "start_time": "2019-01-29T14:46:40.276830Z"
    }
   },
   "outputs": [
    {
     "name": "stdout",
     "output_type": "stream",
     "text": [
      "..//ReferenceFiles/Calibra_20190128/\n"
     ]
    }
   ],
   "source": [
    "print (par.wavecalDir)"
   ]
  },
  {
   "cell_type": "code",
   "execution_count": 9,
   "metadata": {
    "ExecuteTime": {
     "end_time": "2019-01-29T15:05:38.718621Z",
     "start_time": "2019-01-29T15:05:38.705669Z"
    }
   },
   "outputs": [
    {
     "name": "stdout",
     "output_type": "stream",
     "text": [
      "[691.6, 696.2, 700.7, 705.3, 709.8, 714.4, 718.9, 723.5, 728.0, 732.6, 737.1, 741.7, 746.2, 750.8, 755.3, 759.9, 764.5, 769.0, 773.6, 778.1, 782.7, 787.2, 791.8, 796.3, 800.9, 805.4, 810.0, 814.5, 819.1, 823.6, 828.2]\n",
      "['..//ReferenceFiles/Calibra_20190128/det691.6.fits', '..//ReferenceFiles/Calibra_20190128/det696.2.fits', '..//ReferenceFiles/Calibra_20190128/det700.7.fits', '..//ReferenceFiles/Calibra_20190128/det705.3.fits', '..//ReferenceFiles/Calibra_20190128/det709.8.fits', '..//ReferenceFiles/Calibra_20190128/det714.4.fits', '..//ReferenceFiles/Calibra_20190128/det718.9.fits', '..//ReferenceFiles/Calibra_20190128/det723.5.fits', '..//ReferenceFiles/Calibra_20190128/det728.0.fits', '..//ReferenceFiles/Calibra_20190128/det732.6.fits', '..//ReferenceFiles/Calibra_20190128/det737.1.fits', '..//ReferenceFiles/Calibra_20190128/det741.7.fits', '..//ReferenceFiles/Calibra_20190128/det746.2.fits', '..//ReferenceFiles/Calibra_20190128/det750.8.fits', '..//ReferenceFiles/Calibra_20190128/det755.3.fits', '..//ReferenceFiles/Calibra_20190128/det759.9.fits', '..//ReferenceFiles/Calibra_20190128/det764.5.fits', '..//ReferenceFiles/Calibra_20190128/det769.0.fits', '..//ReferenceFiles/Calibra_20190128/det773.6.fits', '..//ReferenceFiles/Calibra_20190128/det778.1.fits', '..//ReferenceFiles/Calibra_20190128/det782.7.fits', '..//ReferenceFiles/Calibra_20190128/det787.2.fits', '..//ReferenceFiles/Calibra_20190128/det791.8.fits', '..//ReferenceFiles/Calibra_20190128/det796.3.fits', '..//ReferenceFiles/Calibra_20190128/det800.9.fits', '..//ReferenceFiles/Calibra_20190128/det805.4.fits', '..//ReferenceFiles/Calibra_20190128/det810.0.fits', '..//ReferenceFiles/Calibra_20190128/det814.5.fits', '..//ReferenceFiles/Calibra_20190128/det819.1.fits', '..//ReferenceFiles/Calibra_20190128/det823.6.fits', '..//ReferenceFiles/Calibra_20190128/det828.2.fits']\n"
     ]
    }
   ],
   "source": [
    "flist = os.listdir(par.wavecalDir)\n",
    "wavs = []\n",
    "for f in flist:\n",
    "    tmp = f.split('.fits')[0]\n",
    "    tmp = float(tmp.split('det')[-1])\n",
    "    wavs.append(tmp)\n",
    "wavs.sort()\n",
    "print(wavs)\n",
    "par.lamlist = wavs\n",
    "par.filelist = [par.wavecalDir+'det'+str(wav)+'.fits' for wav in par.lamlist]\n",
    "print(par.filelist)"
   ]
  },
  {
   "cell_type": "code",
   "execution_count": 10,
   "metadata": {
    "ExecuteTime": {
     "end_time": "2019-01-29T15:19:23.325028Z",
     "start_time": "2019-01-29T15:06:04.108852Z"
    },
    "scrolled": false
   },
   "outputs": [
    {
     "name": "stdout",
     "output_type": "stream",
     "text": [
      "crispy - INFO - Building calibration files, placing results in ..//ReferenceFiles/Calibra_20190128/\n",
      "crispy - INFO - Read data from HDU 0 of ..//ReferenceFiles/Calibra_20190128/det691.6.fits\n",
      "crispy - INFO - Read data from HDU 0 of ..//ReferenceFiles/Calibra_20190128/det691.6.fits\n",
      "crispy - INFO - Mean, median, std: (2664.4119208946427, 2650.0, 69.55710303703204)\n",
      "crispy - INFO - Initializing PSFlet location transformation coefficients\n",
      "crispy - INFO - Performing initial optimization of PSFlet location transformation coefficients for frame ..//ReferenceFiles/Calibra_20190128/det691.6.fits\n",
      "crispy - INFO - Array origin: (527.5741612709259, 511.84374450552554)\n",
      "crispy - INFO - Performing final optimization of PSFlet location transformation coefficients for frame ..//ReferenceFiles/Calibra_20190128/det691.6.fits\n",
      "crispy - INFO - Array origin: (527.6213215661169, 511.82642491821855)\n",
      "crispy - INFO - Read data from HDU 0 of ..//ReferenceFiles/Calibra_20190128/det696.2.fits\n",
      "crispy - INFO - Mean, median, std: (2683.243083634816, 2662.0, 87.96962281229042)\n",
      "crispy - INFO - Initializing transformation coefficients with previous values\n",
      "crispy - INFO - Performing final optimization of PSFlet location transformation coefficients for frame ..//ReferenceFiles/Calibra_20190128/det696.2.fits\n",
      "crispy - INFO - Array origin: (528.3989262685595, 511.8368306482497)\n",
      "crispy - INFO - Read data from HDU 0 of ..//ReferenceFiles/Calibra_20190128/det700.7.fits\n",
      "crispy - INFO - Mean, median, std: (2700.65795867325, 2672.0, 105.02213860656515)\n",
      "crispy - INFO - Initializing transformation coefficients with previous values\n",
      "crispy - INFO - Performing final optimization of PSFlet location transformation coefficients for frame ..//ReferenceFiles/Calibra_20190128/det700.7.fits\n",
      "crispy - INFO - Array origin: (529.2245045036029, 511.84046895265396)\n",
      "crispy - INFO - Read data from HDU 0 of ..//ReferenceFiles/Calibra_20190128/det705.3.fits\n",
      "crispy - INFO - Mean, median, std: (2711.503476356801, 2678.0, 116.94338757223582)\n",
      "crispy - INFO - Initializing transformation coefficients with previous values\n",
      "crispy - INFO - Performing final optimization of PSFlet location transformation coefficients for frame ..//ReferenceFiles/Calibra_20190128/det705.3.fits\n",
      "crispy - INFO - Array origin: (530.0557819579001, 511.8408673250381)\n",
      "crispy - INFO - Read data from HDU 0 of ..//ReferenceFiles/Calibra_20190128/det709.8.fits\n",
      "crispy - INFO - Mean, median, std: (2738.7976004030793, 2693.0, 144.44727674080724)\n",
      "crispy - INFO - Initializing transformation coefficients with previous values\n",
      "crispy - INFO - Performing final optimization of PSFlet location transformation coefficients for frame ..//ReferenceFiles/Calibra_20190128/det709.8.fits\n",
      "crispy - INFO - Array origin: (530.9562626328317, 511.84146207354604)\n",
      "crispy - INFO - Read data from HDU 0 of ..//ReferenceFiles/Calibra_20190128/det714.4.fits\n",
      "crispy - INFO - Mean, median, std: (2756.036698875221, 2703.0, 162.7496121493271)\n",
      "crispy - INFO - Initializing transformation coefficients with previous values\n",
      "crispy - INFO - Performing final optimization of PSFlet location transformation coefficients for frame ..//ReferenceFiles/Calibra_20190128/det714.4.fits\n",
      "crispy - INFO - Array origin: (531.7792907961717, 511.84146390588137)\n",
      "crispy - INFO - Read data from HDU 0 of ..//ReferenceFiles/Calibra_20190128/det718.9.fits\n",
      "crispy - INFO - Mean, median, std: (2765.593198068292, 2707.0, 173.99413977853064)\n",
      "crispy - INFO - Initializing transformation coefficients with previous values\n",
      "crispy - INFO - Performing final optimization of PSFlet location transformation coefficients for frame ..//ReferenceFiles/Calibra_20190128/det718.9.fits\n",
      "crispy - INFO - Array origin: (532.658528128731, 511.8414641315081)\n",
      "crispy - INFO - Read data from HDU 0 of ..//ReferenceFiles/Calibra_20190128/det723.5.fits\n",
      "crispy - INFO - Mean, median, std: (2777.040200353042, 2713.0, 186.777186283724)\n",
      "crispy - INFO - Initializing transformation coefficients with previous values\n",
      "crispy - INFO - Performing final optimization of PSFlet location transformation coefficients for frame ..//ReferenceFiles/Calibra_20190128/det723.5.fits\n",
      "crispy - INFO - Array origin: (533.4816314620847, 511.84146432624823)\n",
      "crispy - INFO - Read data from HDU 0 of ..//ReferenceFiles/Calibra_20190128/det728.0.fits\n",
      "crispy - INFO - Mean, median, std: (2788.281605514034, 2719.0, 199.8299605951703)\n",
      "crispy - INFO - Initializing transformation coefficients with previous values\n",
      "crispy - INFO - Performing final optimization of PSFlet location transformation coefficients for frame ..//ReferenceFiles/Calibra_20190128/det728.0.fits\n",
      "crispy - INFO - Array origin: (534.3639897757276, 511.8414645051481)\n",
      "crispy - INFO - Read data from HDU 0 of ..//ReferenceFiles/Calibra_20190128/det732.6.fits\n",
      "crispy - INFO - Mean, median, std: (2781.9749214731755, 2715.0, 194.19313517701374)\n",
      "crispy - INFO - Initializing transformation coefficients with previous values\n",
      "crispy - INFO - Performing final optimization of PSFlet location transformation coefficients for frame ..//ReferenceFiles/Calibra_20190128/det732.6.fits\n",
      "crispy - INFO - Array origin: (535.2049133666893, 511.8414645449075)\n",
      "crispy - INFO - Read data from HDU 0 of ..//ReferenceFiles/Calibra_20190128/det737.1.fits\n",
      "crispy - INFO - Mean, median, std: (2793.6041666192505, 2721.0, 205.18833899004403)\n",
      "crispy - INFO - Initializing transformation coefficients with previous values\n",
      "crispy - INFO - Performing final optimization of PSFlet location transformation coefficients for frame ..//ReferenceFiles/Calibra_20190128/det737.1.fits\n",
      "crispy - INFO - Array origin: (536.0392678682563, 511.84146454504145)\n",
      "crispy - INFO - Read data from HDU 0 of ..//ReferenceFiles/Calibra_20190128/det741.7.fits\n",
      "crispy - INFO - Mean, median, std: (2791.3194860536164, 2719.0, 204.6034604462777)\n",
      "crispy - INFO - Initializing transformation coefficients with previous values\n",
      "crispy - INFO - Performing final optimization of PSFlet location transformation coefficients for frame ..//ReferenceFiles/Calibra_20190128/det741.7.fits\n",
      "crispy - INFO - Array origin: (536.86736055837, 511.873086673585)\n",
      "crispy - INFO - Read data from HDU 0 of ..//ReferenceFiles/Calibra_20190128/det746.2.fits\n",
      "crispy - INFO - Mean, median, std: (2792.595722371043, 2719.0, 206.5390779739435)\n",
      "crispy - INFO - Initializing transformation coefficients with previous values\n",
      "crispy - INFO - Performing final optimization of PSFlet location transformation coefficients for frame ..//ReferenceFiles/Calibra_20190128/det746.2.fits\n",
      "crispy - INFO - Array origin: (537.7162394342959, 511.88558035083275)\n",
      "crispy - INFO - Read data from HDU 0 of ..//ReferenceFiles/Calibra_20190128/det750.8.fits\n",
      "crispy - INFO - Mean, median, std: (2791.063817853376, 2718.0, 205.08057983725396)\n",
      "crispy - INFO - Initializing transformation coefficients with previous values\n",
      "crispy - INFO - Performing final optimization of PSFlet location transformation coefficients for frame ..//ReferenceFiles/Calibra_20190128/det750.8.fits\n",
      "crispy - INFO - Array origin: (538.5093740738741, 511.8925080124784)\n",
      "crispy - INFO - Read data from HDU 0 of ..//ReferenceFiles/Calibra_20190128/det755.3.fits\n",
      "crispy - INFO - Mean, median, std: (2786.0558163507417, 2715.0, 199.82761380566538)\n",
      "crispy - INFO - Initializing transformation coefficients with previous values\n",
      "crispy - INFO - Performing final optimization of PSFlet location transformation coefficients for frame ..//ReferenceFiles/Calibra_20190128/det755.3.fits\n",
      "crispy - INFO - Array origin: (539.332526377004, 511.9022671618121)\n",
      "crispy - INFO - Read data from HDU 0 of ..//ReferenceFiles/Calibra_20190128/det759.9.fits\n",
      "crispy - INFO - Mean, median, std: (2796.316060299088, 2720.0, 210.68888359906197)\n",
      "crispy - INFO - Initializing transformation coefficients with previous values\n",
      "crispy - INFO - Performing final optimization of PSFlet location transformation coefficients for frame ..//ReferenceFiles/Calibra_20190128/det759.9.fits\n",
      "crispy - INFO - Array origin: (540.1518648248134, 511.9102824710883)\n",
      "crispy - INFO - Read data from HDU 0 of ..//ReferenceFiles/Calibra_20190128/det764.5.fits\n",
      "crispy - INFO - Mean, median, std: (2789.8835214211194, 2716.0, 204.16491064336108)\n",
      "crispy - INFO - Initializing transformation coefficients with previous values\n"
     ]
    },
    {
     "name": "stdout",
     "output_type": "stream",
     "text": [
      "crispy - INFO - Performing final optimization of PSFlet location transformation coefficients for frame ..//ReferenceFiles/Calibra_20190128/det764.5.fits\n",
      "crispy - INFO - Array origin: (540.9742009827817, 511.9121842858149)\n",
      "crispy - INFO - Read data from HDU 0 of ..//ReferenceFiles/Calibra_20190128/det769.0.fits\n",
      "crispy - INFO - Mean, median, std: (2807.625426737366, 2725.0, 224.0428537169957)\n",
      "crispy - INFO - Initializing transformation coefficients with previous values\n",
      "crispy - INFO - Performing final optimization of PSFlet location transformation coefficients for frame ..//ReferenceFiles/Calibra_20190128/det769.0.fits\n",
      "crispy - INFO - Array origin: (541.8775704096178, 511.91461130511374)\n",
      "crispy - INFO - Read data from HDU 0 of ..//ReferenceFiles/Calibra_20190128/det773.6.fits\n",
      "crispy - INFO - Mean, median, std: (2783.625135484456, 2711.0, 199.25758365448667)\n",
      "crispy - INFO - Initializing transformation coefficients with previous values\n",
      "crispy - INFO - Performing final optimization of PSFlet location transformation coefficients for frame ..//ReferenceFiles/Calibra_20190128/det773.6.fits\n",
      "crispy - INFO - Array origin: (542.6628043138594, 511.91746187129314)\n",
      "crispy - INFO - Read data from HDU 0 of ..//ReferenceFiles/Calibra_20190128/det778.1.fits\n",
      "crispy - INFO - Mean, median, std: (2662.6851304235174, 2645.0, 73.04064022042601)\n",
      "crispy - INFO - Initializing transformation coefficients with previous values\n",
      "crispy - INFO - Performing final optimization of PSFlet location transformation coefficients for frame ..//ReferenceFiles/Calibra_20190128/det778.1.fits\n",
      "crispy - INFO - Array origin: (542.9090548789632, 511.9139783669091)\n",
      "crispy - INFO - Read data from HDU 0 of ..//ReferenceFiles/Calibra_20190128/det782.7.fits\n",
      "crispy - INFO - Mean, median, std: (2802.2064029606236, 2723.0, 218.67503952005396)\n",
      "crispy - INFO - Initializing transformation coefficients with previous values\n",
      "crispy - INFO - Performing final optimization of PSFlet location transformation coefficients for frame ..//ReferenceFiles/Calibra_20190128/det782.7.fits\n",
      "crispy - INFO - Array origin: (544.2762800446242, 511.9333934363685)\n",
      "crispy - INFO - Read data from HDU 0 of ..//ReferenceFiles/Calibra_20190128/det787.2.fits\n",
      "crispy - INFO - Mean, median, std: (2802.3978050852256, 2723.0, 221.17693091724416)\n",
      "crispy - INFO - Initializing transformation coefficients with previous values\n",
      "crispy - INFO - Performing final optimization of PSFlet location transformation coefficients for frame ..//ReferenceFiles/Calibra_20190128/det787.2.fits\n",
      "crispy - INFO - Array origin: (545.0653800860454, 511.9423815975889)\n",
      "crispy - INFO - Read data from HDU 0 of ..//ReferenceFiles/Calibra_20190128/det791.8.fits\n",
      "crispy - INFO - Mean, median, std: (2821.8324561950135, 2734.0, 242.22577591119372)\n",
      "crispy - INFO - Initializing transformation coefficients with previous values\n",
      "crispy - INFO - Performing final optimization of PSFlet location transformation coefficients for frame ..//ReferenceFiles/Calibra_20190128/det791.8.fits\n",
      "crispy - INFO - Array origin: (545.8592360253194, 511.9505722035262)\n",
      "crispy - INFO - Read data from HDU 0 of ..//ReferenceFiles/Calibra_20190128/det796.3.fits\n",
      "crispy - INFO - Mean, median, std: (2836.851814111191, 2743.0, 256.53003321141773)\n",
      "crispy - INFO - Initializing transformation coefficients with previous values\n",
      "crispy - INFO - Performing final optimization of PSFlet location transformation coefficients for frame ..//ReferenceFiles/Calibra_20190128/det796.3.fits\n",
      "crispy - INFO - Array origin: (546.6264196106467, 511.95057632715276)\n",
      "crispy - INFO - Read data from HDU 0 of ..//ReferenceFiles/Calibra_20190128/det800.9.fits\n",
      "crispy - INFO - Mean, median, std: (2845.318412801875, 2747.0, 265.30743234549965)\n",
      "crispy - INFO - Initializing transformation coefficients with previous values\n",
      "crispy - INFO - Performing final optimization of PSFlet location transformation coefficients for frame ..//ReferenceFiles/Calibra_20190128/det800.9.fits\n",
      "crispy - INFO - Array origin: (547.3526382765698, 511.9505763271764)\n",
      "crispy - INFO - Read data from HDU 0 of ..//ReferenceFiles/Calibra_20190128/det805.4.fits\n",
      "crispy - INFO - Mean, median, std: (2873.03076231259, 2762.0, 294.36477303338415)\n",
      "crispy - INFO - Initializing transformation coefficients with previous values\n",
      "crispy - INFO - Performing final optimization of PSFlet location transformation coefficients for frame ..//ReferenceFiles/Calibra_20190128/det805.4.fits\n",
      "crispy - INFO - Array origin: (548.1465510115318, 511.9505763271764)\n",
      "crispy - INFO - Read data from HDU 0 of ..//ReferenceFiles/Calibra_20190128/det810.0.fits\n",
      "crispy - INFO - Mean, median, std: (2858.045165429009, 2753.0, 278.8175562392642)\n",
      "crispy - INFO - Initializing transformation coefficients with previous values\n",
      "crispy - INFO - Performing final optimization of PSFlet location transformation coefficients for frame ..//ReferenceFiles/Calibra_20190128/det810.0.fits\n",
      "crispy - INFO - Array origin: (548.9075814721195, 511.9505763271764)\n",
      "crispy - INFO - Read data from HDU 0 of ..//ReferenceFiles/Calibra_20190128/det814.5.fits\n",
      "crispy - INFO - Mean, median, std: (2881.133429836802, 2766.0, 302.60075522484277)\n",
      "crispy - INFO - Initializing transformation coefficients with previous values\n",
      "crispy - INFO - Performing final optimization of PSFlet location transformation coefficients for frame ..//ReferenceFiles/Calibra_20190128/det814.5.fits\n",
      "crispy - INFO - Array origin: (549.6872141357916, 511.9505763271764)\n",
      "crispy - INFO - Read data from HDU 0 of ..//ReferenceFiles/Calibra_20190128/det819.1.fits\n",
      "crispy - INFO - Mean, median, std: (2874.4370130436605, 2762.0, 295.4730265275823)\n",
      "crispy - INFO - Initializing transformation coefficients with previous values\n",
      "crispy - INFO - Performing final optimization of PSFlet location transformation coefficients for frame ..//ReferenceFiles/Calibra_20190128/det819.1.fits\n",
      "crispy - INFO - Array origin: (550.4438610462108, 511.98321125720366)\n",
      "crispy - INFO - Read data from HDU 0 of ..//ReferenceFiles/Calibra_20190128/det823.6.fits\n",
      "crispy - INFO - Mean, median, std: (2930.737265022368, 2794.0, 353.5085883574266)\n",
      "crispy - INFO - Initializing transformation coefficients with previous values\n",
      "crispy - INFO - Performing final optimization of PSFlet location transformation coefficients for frame ..//ReferenceFiles/Calibra_20190128/det823.6.fits\n",
      "crispy - INFO - Array origin: (551.2385410020563, 512.000373441861)\n",
      "crispy - INFO - Read data from HDU 0 of ..//ReferenceFiles/Calibra_20190128/det828.2.fits\n",
      "crispy - INFO - Mean, median, std: (2939.281158781111, 2801.0, 359.98505301119576)\n",
      "crispy - INFO - Initializing transformation coefficients with previous values\n",
      "crispy - INFO - Performing final optimization of PSFlet location transformation coefficients for frame ..//ReferenceFiles/Calibra_20190128/det828.2.fits\n",
      "crispy - INFO - Array origin: (551.9634994605776, 512.01754857672)\n",
      "crispy - INFO - Saving wavelength solution to ..//ReferenceFiles/Calibra_20190128/lamsol.dat\n",
      "crispy - INFO - Computing wavelength values at pixel centers\n",
      "crispy - INFO - Making high-resolution PSFLet models\n",
      "crispy - INFO - Starting parallel computation\n",
      "crispy - INFO - Computing PSFLet widths...\n",
      "crispy - INFO - Reduced cube will have 25 wavelength bins\n",
      "crispy - INFO - Making polychrome cube\n",
      "crispy - INFO - Saving polychrome cube\n",
      "crispy - INFO - Saving wavelength calibration cube\n",
      "crispy - INFO - Total time elapsed: 798 s\n"
     ]
    }
   ],
   "source": [
    "# We need to run the calibration for the first time\n",
    "from crispy.tools.wavecal import buildcalibrations\n",
    "par.gaussian_hires=False # since par.gaussian_hires is False, it will attempt to make high-resolution PSFLets\n",
    "buildcalibrations(par,\n",
    "                    inspect=True,\n",
    "                    inspect_first=True,\n",
    "                    genwavelengthsol=True, # Compute wavelength at the center of all pixels\n",
    "                    makehiresPSFlets=True, # this requires very high SNR on the monochromatic frames\n",
    "                    makePolychrome=True,   # This is needed to use least squares extraction\n",
    "                    makePSFWidths=True,    # Fit PSF widths from high-res PSFLet models\n",
    "                    upsample=3,            # upsampling factor of the high-resolution PSFLets\n",
    "                    nsubarr=4,             # the detector is divided into nsubarr^2 regions for PSFLet averaging\n",
    "                    apodize=False,          # to match PSFlet spot locations, only use the inner circular part of the \n",
    "                                           #detector, hence discarding the corners of the detector where lenslets are \n",
    "                                           #distorted\n",
    "                    finecal=True,\n",
    "                    trimfrac=0.0,\n",
    "                  ) "
   ]
  },
  {
   "cell_type": "code",
   "execution_count": 11,
   "metadata": {
    "ExecuteTime": {
     "end_time": "2019-01-29T15:21:18.808964Z",
     "start_time": "2019-01-29T15:21:18.772746Z"
    }
   },
   "outputs": [
    {
     "name": "stdout",
     "output_type": "stream",
     "text": [
      "crispy - INFO - Reduced cube will have 25 wavelength bins\n",
      "('Wavelengths at midpoints for lstsq (nm): ', array([694.09767464, 699.12011712, 704.17890165, 709.27429119,\n",
      "       714.40655062, 719.57594672, 724.78274821, 730.02722575,\n",
      "       735.30965197, 740.63030146, 745.98945079, 751.38737856,\n",
      "       756.82436536, 762.30069381, 767.8166486 , 773.37251645,\n",
      "       778.96858618, 784.60514868, 790.28249695, 796.00092612,\n",
      "       801.76073344, 807.56221833, 813.40568236, 819.29142929,\n",
      "       825.21976507]))\n",
      "('Wavelengths at endpoints for lstsq (nm): ', array([691.6       , 696.60436949, 701.64495024, 706.72200429,\n",
      "       711.83579554, 716.98658984, 722.17465492, 727.40026048,\n",
      "       732.66367816, 737.96518157, 743.30504628, 748.68354988,\n",
      "       754.10097196, 759.55759413, 765.05370004, 770.58957539,\n",
      "       776.16550795, 781.78178757, 787.43870619, 793.13655789,\n",
      "       798.87563885, 804.65624739, 810.47868402, 816.34325139,\n",
      "       822.25025436, 828.2       ]))\n",
      "crispy - INFO - Reduced cube will have 25 wavelength bins\n",
      "('Wavelengths at midpoints for optext (nm): ', array([694.09767464, 699.12011712, 704.17890165, 709.27429119,\n",
      "       714.40655062, 719.57594672, 724.78274821, 730.02722575,\n",
      "       735.30965197, 740.63030146, 745.98945079, 751.38737856,\n",
      "       756.82436536, 762.30069381, 767.8166486 , 773.37251645,\n",
      "       778.96858618, 784.60514868, 790.28249695, 796.00092612,\n",
      "       801.76073344, 807.56221833, 813.40568236, 819.29142929,\n",
      "       825.21976507]))\n",
      "('Wavelengths at endpoints for optext (nm): ', array([691.6       , 696.60436949, 701.64495024, 706.72200429,\n",
      "       711.83579554, 716.98658984, 722.17465492, 727.40026048,\n",
      "       732.66367816, 737.96518157, 743.30504628, 748.68354988,\n",
      "       754.10097196, 759.55759413, 765.05370004, 770.58957539,\n",
      "       776.16550795, 781.78178757, 787.43870619, 793.13655789,\n",
      "       798.87563885, 804.65624739, 810.47868402, 816.34325139,\n",
      "       822.25025436, 828.2       ]))\n"
     ]
    }
   ],
   "source": [
    "from crispy.tools.reduction import calculateWaveList\n",
    "lam_midpts,lam_endpts = calculateWaveList(par,method='lstsq')\n",
    "print('Wavelengths at midpoints for lstsq (nm): ',lam_midpts)\n",
    "print('Wavelengths at endpoints for lstsq (nm): ',lam_endpts)\n",
    "lam_midpts,lam_endpts = calculateWaveList(par,method='optext')\n",
    "print('Wavelengths at midpoints for optext (nm): ',lam_midpts)\n",
    "print('Wavelengths at endpoints for optext (nm): ',lam_endpts)"
   ]
  },
  {
   "cell_type": "code",
   "execution_count": 12,
   "metadata": {
    "ExecuteTime": {
     "end_time": "2019-01-29T15:22:56.989105Z",
     "start_time": "2019-01-29T15:22:54.002942Z"
    }
   },
   "outputs": [
    {
     "name": "stdout",
     "output_type": "stream",
     "text": [
      "crispy - INFO - Read data from HDU 0 of ..//ReferenceFiles/Calibra_20190128//det750.8.fits\n",
      "crispy - INFO - Mean, median, std: (2791.063817853376, 2718.0, 205.08057983725396)\n",
      "crispy - INFO - Reduced cube will have 25 wavelength bins\n",
      "crispy - INFO - Elapsed time: 2.965292s\n"
     ]
    }
   ],
   "source": [
    "from crispy.IFS import reduceIFSMap\n",
    "cube = reduceIFSMap(par,par.wavecalDir+'/det750.8.fits',method='optext',smoothbad=False,medsub=False)\n"
   ]
  }
 ],
 "metadata": {
  "kernelspec": {
   "display_name": "Python 2",
   "language": "python",
   "name": "python2"
  },
  "language_info": {
   "codemirror_mode": {
    "name": "ipython",
    "version": 2
   },
   "file_extension": ".py",
   "mimetype": "text/x-python",
   "name": "python",
   "nbconvert_exporter": "python",
   "pygments_lexer": "ipython2",
   "version": "2.7.15"
  },
  "latex_envs": {
   "LaTeX_envs_menu_present": true,
   "autoclose": false,
   "autocomplete": true,
   "bibliofile": "biblio.bib",
   "cite_by": "apalike",
   "current_citInitial": 1,
   "eqLabelWithNumbers": true,
   "eqNumInitial": 1,
   "hotkeys": {
    "equation": "Ctrl-E",
    "itemize": "Ctrl-I"
   },
   "labels_anchors": false,
   "latex_user_defs": false,
   "report_style_numbering": false,
   "user_envs_cfg": false
  },
  "toc": {
   "nav_menu": {},
   "number_sections": true,
   "sideBar": true,
   "skip_h1_title": false,
   "title_cell": "Table of Contents",
   "title_sidebar": "Contents",
   "toc_cell": false,
   "toc_position": {},
   "toc_section_display": true,
   "toc_window_display": false
  },
  "varInspector": {
   "cols": {
    "lenName": 16,
    "lenType": 16,
    "lenVar": 40
   },
   "kernels_config": {
    "python": {
     "delete_cmd_postfix": "",
     "delete_cmd_prefix": "del ",
     "library": "var_list.py",
     "varRefreshCmd": "print(var_dic_list())"
    },
    "r": {
     "delete_cmd_postfix": ") ",
     "delete_cmd_prefix": "rm(",
     "library": "var_list.r",
     "varRefreshCmd": "cat(var_dic_list()) "
    }
   },
   "types_to_exclude": [
    "module",
    "function",
    "builtin_function_or_method",
    "instance",
    "_Feature"
   ],
   "window_display": false
  }
 },
 "nbformat": 4,
 "nbformat_minor": 2
}
