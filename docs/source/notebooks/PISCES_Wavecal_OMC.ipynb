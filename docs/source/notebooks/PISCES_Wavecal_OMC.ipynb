{
 "cells": [
  {
   "cell_type": "code",
   "execution_count": 1,
   "metadata": {
    "ExecuteTime": {
     "end_time": "2019-01-29T14:45:13.932694Z",
     "start_time": "2019-01-29T14:45:12.828668Z"
    }
   },
   "outputs": [
    {
     "name": "stdout",
     "output_type": "stream",
     "text": [
      "Populating the interactive namespace from numpy and matplotlib\n"
     ]
    }
   ],
   "source": [
    "import numpy as np\n",
    "import glob\n",
    "from astropy.io import fits\n",
    "%pylab inline --no-import-all\n",
    "plt.rc('font', family='serif', serif='Times',size=20)\n",
    "plt.rc('text', usetex=True)\n",
    "plt.rc('xtick', labelsize=20)\n",
    "plt.rc('xtick.major', size=10)\n",
    "plt.rc('ytick.major', size=10)\n",
    "plt.rc('ytick', labelsize=20)\n",
    "plt.rc('axes', labelsize=20)\n",
    "plt.rc('figure',titlesize=20)\n",
    "plt.rc('image',origin='lower',interpolation='nearest')\n",
    "\n",
    "import sys\n",
    "import os"
   ]
  },
  {
   "cell_type": "code",
   "execution_count": 2,
   "metadata": {
    "ExecuteTime": {
     "end_time": "2019-01-29T14:45:27.067164Z",
     "start_time": "2019-01-29T14:45:27.035490Z"
    }
   },
   "outputs": [
    {
     "data": {
      "text/plain": [
       "SIMPLE  =                    T / conforms to FITS standard                      \n",
       "BITPIX  =                    8 / array data type                                \n",
       "NAXIS   =                    0 / number of array dimensions                     \n",
       "EXTEND  =                    T                                                  \n",
       "COMMENT                                                                         \n",
       "COMMENT ************************************************************            \n",
       "COMMENT ********************** General parameters ******************            \n",
       "COMMENT ************************************************************            \n",
       "COMMENT                                                                         \n",
       "NLENS   =                  108 / # lenslets across array                        \n",
       "PITCH   =             0.000174 / Lenslet pitch (meters)                         \n",
       "INTERLAC=                    2 / Interlacing                                    \n",
       "PHILENS =    26.56505117707799 / Rotation angle of the lenslets (deg)           \n",
       "PIXSIZE =              1.3E-05 / Pixel size (meters)                            \n",
       "LENSAMP =                  0.5 / Lenslet sampling (lam/D)                       \n",
       "LSAMPWAV=                600.0 / Lenslet sampling wavelength (nm)               \n",
       "FWHM    =                    2 / FHWM of PSFLet at detector (pixels)            \n",
       "FWHMLAM =                660.0 / Wavelength at which FWHM is defined (nm)       \n",
       "NPIX    =                 1024 / Number of detector pixels                      \n",
       "DISPDIST=                    F / Use PISCES distortion/dispersion?              "
      ]
     },
     "execution_count": 2,
     "metadata": {},
     "output_type": "execute_result"
    }
   ],
   "source": [
    "os.chdir('/Users/mrizzo/IFS/crispy/crispy/PISCES/')\n",
    "\n",
    "import logging as log\n",
    "from crispy.tools.initLogger import getLogger\n",
    "log = getLogger('crispy')\n",
    "from crispy.tools.image import Image\n",
    "from params import Params\n",
    "par = Params()\n",
    "par.hdr"
   ]
  },
  {
   "cell_type": "code",
   "execution_count": 3,
   "metadata": {
    "ExecuteTime": {
     "end_time": "2019-01-29T14:46:40.283128Z",
     "start_time": "2019-01-29T14:46:40.276830Z"
    }
   },
   "outputs": [
    {
     "name": "stdout",
     "output_type": "stream",
     "text": [
      "..//ReferenceFiles/Calibra_20190128/\n"
     ]
    }
   ],
   "source": [
    "print (par.wavecalDir)"
   ]
  },
  {
   "cell_type": "code",
   "execution_count": 9,
   "metadata": {
    "ExecuteTime": {
     "end_time": "2019-01-29T15:05:38.718621Z",
     "start_time": "2019-01-29T15:05:38.705669Z"
    }
   },
   "outputs": [
    {
     "name": "stdout",
     "output_type": "stream",
     "text": [
      "[691.6, 696.2, 700.7, 705.3, 709.8, 714.4, 718.9, 723.5, 728.0, 732.6, 737.1, 741.7, 746.2, 750.8, 755.3, 759.9, 764.5, 769.0, 773.6, 778.1, 782.7, 787.2, 791.8, 796.3, 800.9, 805.4, 810.0, 814.5, 819.1, 823.6, 828.2]\n",
      "['..//ReferenceFiles/Calibra_20190128/det691.6.fits', '..//ReferenceFiles/Calibra_20190128/det696.2.fits', '..//ReferenceFiles/Calibra_20190128/det700.7.fits', '..//ReferenceFiles/Calibra_20190128/det705.3.fits', '..//ReferenceFiles/Calibra_20190128/det709.8.fits', '..//ReferenceFiles/Calibra_20190128/det714.4.fits', '..//ReferenceFiles/Calibra_20190128/det718.9.fits', '..//ReferenceFiles/Calibra_20190128/det723.5.fits', '..//ReferenceFiles/Calibra_20190128/det728.0.fits', '..//ReferenceFiles/Calibra_20190128/det732.6.fits', '..//ReferenceFiles/Calibra_20190128/det737.1.fits', '..//ReferenceFiles/Calibra_20190128/det741.7.fits', '..//ReferenceFiles/Calibra_20190128/det746.2.fits', '..//ReferenceFiles/Calibra_20190128/det750.8.fits', '..//ReferenceFiles/Calibra_20190128/det755.3.fits', '..//ReferenceFiles/Calibra_20190128/det759.9.fits', '..//ReferenceFiles/Calibra_20190128/det764.5.fits', '..//ReferenceFiles/Calibra_20190128/det769.0.fits', '..//ReferenceFiles/Calibra_20190128/det773.6.fits', '..//ReferenceFiles/Calibra_20190128/det778.1.fits', '..//ReferenceFiles/Calibra_20190128/det782.7.fits', '..//ReferenceFiles/Calibra_20190128/det787.2.fits', '..//ReferenceFiles/Calibra_20190128/det791.8.fits', '..//ReferenceFiles/Calibra_20190128/det796.3.fits', '..//ReferenceFiles/Calibra_20190128/det800.9.fits', '..//ReferenceFiles/Calibra_20190128/det805.4.fits', '..//ReferenceFiles/Calibra_20190128/det810.0.fits', '..//ReferenceFiles/Calibra_20190128/det814.5.fits', '..//ReferenceFiles/Calibra_20190128/det819.1.fits', '..//ReferenceFiles/Calibra_20190128/det823.6.fits', '..//ReferenceFiles/Calibra_20190128/det828.2.fits']\n"
     ]
    }
   ],
   "source": [
    "flist = os.listdir(par.wavecalDir)\n",
    "wavs = []\n",
    "for f in flist:\n",
    "    tmp = f.split('.fits')[0]\n",
    "    tmp = float(tmp.split('det')[-1])\n",
    "    wavs.append(tmp)\n",
    "wavs.sort()\n",
    "print(wavs)\n",
    "par.lamlist = wavs\n",
    "par.filelist = [par.wavecalDir+'det'+str(wav)+'.fits' for wav in par.lamlist]\n",
    "print(par.filelist)"
   ]
  },
  {
   "cell_type": "code",
   "execution_count": 13,
   "metadata": {
    "ExecuteTime": {
     "end_time": "2019-01-29T15:46:45.468939Z",
     "start_time": "2019-01-29T15:45:00.650236Z"
    },
    "scrolled": false
   },
   "outputs": [
    {
     "name": "stdout",
     "output_type": "stream",
     "text": [
      "crispy - INFO - Building calibration files, placing results in ..//ReferenceFiles/Calibra_20190128/\n",
      "crispy - INFO - Read data from HDU 0 of ..//ReferenceFiles/Calibra_20190128/det691.6.fits\n",
      "crispy - INFO - Implementing experimental fine calibration method - watch out for bugs!\n",
      "crispy - INFO - Read data from HDU 0 of ..//ReferenceFiles/Calibra_20190128/det691.6.fits\n",
      "crispy - INFO - Mean, median, std: (2664.4119208946427, 2650.0, 69.55710303703204)\n",
      "crispy - INFO - Initializing PSFlet location transformation coefficients\n",
      "crispy - INFO - Performing initial optimization of PSFlet location transformation coefficients for frame ..//ReferenceFiles/Calibra_20190128/det691.6.fits\n",
      "crispy - INFO - Array origin: (521.5650777734378, 523.6323690197485)\n",
      "crispy - INFO - Performing final optimization of PSFlet location transformation coefficients for frame ..//ReferenceFiles/Calibra_20190128/det691.6.fits\n",
      "crispy - INFO - Array origin: (522.314594951993, 524.8730846759098)\n",
      "crispy - INFO - Finding individual centroids (experimental)\n",
      "crispy - INFO - Read data from HDU 0 of ..//ReferenceFiles/Calibra_20190128/det696.2.fits\n",
      "crispy - INFO - Mean, median, std: (2683.243083634816, 2662.0, 87.96962281229042)\n",
      "crispy - INFO - Initializing transformation coefficients with previous values\n",
      "crispy - INFO - Performing final optimization of PSFlet location transformation coefficients for frame ..//ReferenceFiles/Calibra_20190128/det696.2.fits\n"
     ]
    },
    {
     "ename": "KeyboardInterrupt",
     "evalue": "",
     "output_type": "error",
     "traceback": [
      "\u001b[0;31m---------------------------------------------------------------------------\u001b[0m",
      "\u001b[0;31mKeyboardInterrupt\u001b[0m                         Traceback (most recent call last)",
      "\u001b[0;32m<ipython-input-13-b754918bf21f>\u001b[0m in \u001b[0;36m<module>\u001b[0;34m()\u001b[0m\n\u001b[1;32m     15\u001b[0m                                            \u001b[0;31m# distorted\u001b[0m\u001b[0;34m\u001b[0m\u001b[0;34m\u001b[0m\u001b[0m\n\u001b[1;32m     16\u001b[0m                     \u001b[0mfinecal\u001b[0m\u001b[0;34m=\u001b[0m\u001b[0mTrue\u001b[0m\u001b[0;34m,\u001b[0m          \u001b[0;31m# Attempt at doing fine wavelength calibration (need high SNR!)\u001b[0m\u001b[0;34m\u001b[0m\u001b[0m\n\u001b[0;32m---> 17\u001b[0;31m                     \u001b[0mtrimfrac\u001b[0m\u001b[0;34m=\u001b[0m\u001b[0;36m0.1\u001b[0m\u001b[0;34m,\u001b[0m\u001b[0;34m\u001b[0m\u001b[0m\n\u001b[0m\u001b[1;32m     18\u001b[0m                   ) \n",
      "\u001b[0;32m/Users/mrizzo/anaconda2/lib/python2.7/site-packages/crispy-0.9-py2.7.egg/crispy/tools/wavecal.pyc\u001b[0m in \u001b[0;36mbuildcalibrations\u001b[0;34m(par, filelist, lamlist, order, inspect, genwavelengthsol, makehiresPSFlets, makePolychrome, makehiresPolychrome, makePSFWidths, savehiresimages, borderpix, upsample, nsubarr, npix, parallel, inspect_first, apodize, lamsol, threshold, finecal, pxthreshold, findthreshold, trimfrac, apdiam, halfsize, snrthreshold, initcoef)\u001b[0m\n\u001b[1;32m    989\u001b[0m                                 \u001b[0mcoef\u001b[0m\u001b[0;34m=\u001b[0m\u001b[0mcoef\u001b[0m\u001b[0;34m,\u001b[0m \u001b[0mphi\u001b[0m\u001b[0;34m=\u001b[0m\u001b[0mpar\u001b[0m\u001b[0;34m.\u001b[0m\u001b[0mphilens\u001b[0m\u001b[0;34m,\u001b[0m\u001b[0;34m\u001b[0m\u001b[0m\n\u001b[1;32m    990\u001b[0m                                 \u001b[0mscale\u001b[0m\u001b[0;34m=\u001b[0m\u001b[0mpar\u001b[0m\u001b[0;34m.\u001b[0m\u001b[0mpitch\u001b[0m \u001b[0;34m/\u001b[0m \u001b[0mpar\u001b[0m\u001b[0;34m.\u001b[0m\u001b[0mpixsize\u001b[0m\u001b[0;34m,\u001b[0m \u001b[0mnlens\u001b[0m\u001b[0;34m=\u001b[0m\u001b[0mpar\u001b[0m\u001b[0;34m.\u001b[0m\u001b[0mnlens\u001b[0m\u001b[0;34m,\u001b[0m\u001b[0;34m\u001b[0m\u001b[0m\n\u001b[0;32m--> 991\u001b[0;31m                                 trimfrac=trimfrac)\n\u001b[0m\u001b[1;32m    992\u001b[0m             \u001b[0mallcoef\u001b[0m \u001b[0;34m+=\u001b[0m \u001b[0;34m[\u001b[0m\u001b[0;34m[\u001b[0m\u001b[0mlamlist\u001b[0m\u001b[0;34m[\u001b[0m\u001b[0mi\u001b[0m\u001b[0;34m]\u001b[0m\u001b[0;34m]\u001b[0m \u001b[0;34m+\u001b[0m \u001b[0mlist\u001b[0m\u001b[0;34m(\u001b[0m\u001b[0mcoef\u001b[0m\u001b[0;34m)\u001b[0m\u001b[0;34m]\u001b[0m\u001b[0;34m\u001b[0m\u001b[0m\n\u001b[1;32m    993\u001b[0m \u001b[0;34m\u001b[0m\u001b[0m\n",
      "\u001b[0;32m/Users/mrizzo/anaconda2/lib/python2.7/site-packages/crispy-0.9-py2.7.egg/crispy/tools/locate_psflets.pyc\u001b[0m in \u001b[0;36mlocatePSFlets\u001b[0;34m(inImage, mask, polyorder, sig, coef, trimfrac, phi, scale, nlens)\u001b[0m\n\u001b[1;32m    906\u001b[0m             \u001b[0mpolyorder\u001b[0m\u001b[0;34m,\u001b[0m\u001b[0;34m\u001b[0m\u001b[0m\n\u001b[1;32m    907\u001b[0m             trimfrac),\n\u001b[0;32m--> 908\u001b[0;31m         method='Powell')\n\u001b[0m\u001b[1;32m    909\u001b[0m \u001b[0;34m\u001b[0m\u001b[0m\n\u001b[1;32m    910\u001b[0m     \u001b[0mcoef_opt\u001b[0m \u001b[0;34m=\u001b[0m \u001b[0mres\u001b[0m\u001b[0;34m.\u001b[0m\u001b[0mx\u001b[0m\u001b[0;34m\u001b[0m\u001b[0m\n",
      "\u001b[0;32m/Users/mrizzo/anaconda2/lib/python2.7/site-packages/scipy/optimize/_minimize.pyc\u001b[0m in \u001b[0;36mminimize\u001b[0;34m(fun, x0, args, method, jac, hess, hessp, bounds, constraints, tol, callback, options)\u001b[0m\n\u001b[1;32m    475\u001b[0m         \u001b[0;32mreturn\u001b[0m \u001b[0m_minimize_neldermead\u001b[0m\u001b[0;34m(\u001b[0m\u001b[0mfun\u001b[0m\u001b[0;34m,\u001b[0m \u001b[0mx0\u001b[0m\u001b[0;34m,\u001b[0m \u001b[0margs\u001b[0m\u001b[0;34m,\u001b[0m \u001b[0mcallback\u001b[0m\u001b[0;34m,\u001b[0m \u001b[0;34m**\u001b[0m\u001b[0moptions\u001b[0m\u001b[0;34m)\u001b[0m\u001b[0;34m\u001b[0m\u001b[0m\n\u001b[1;32m    476\u001b[0m     \u001b[0;32melif\u001b[0m \u001b[0mmeth\u001b[0m \u001b[0;34m==\u001b[0m \u001b[0;34m'powell'\u001b[0m\u001b[0;34m:\u001b[0m\u001b[0;34m\u001b[0m\u001b[0m\n\u001b[0;32m--> 477\u001b[0;31m         \u001b[0;32mreturn\u001b[0m \u001b[0m_minimize_powell\u001b[0m\u001b[0;34m(\u001b[0m\u001b[0mfun\u001b[0m\u001b[0;34m,\u001b[0m \u001b[0mx0\u001b[0m\u001b[0;34m,\u001b[0m \u001b[0margs\u001b[0m\u001b[0;34m,\u001b[0m \u001b[0mcallback\u001b[0m\u001b[0;34m,\u001b[0m \u001b[0;34m**\u001b[0m\u001b[0moptions\u001b[0m\u001b[0;34m)\u001b[0m\u001b[0;34m\u001b[0m\u001b[0m\n\u001b[0m\u001b[1;32m    478\u001b[0m     \u001b[0;32melif\u001b[0m \u001b[0mmeth\u001b[0m \u001b[0;34m==\u001b[0m \u001b[0;34m'cg'\u001b[0m\u001b[0;34m:\u001b[0m\u001b[0;34m\u001b[0m\u001b[0m\n\u001b[1;32m    479\u001b[0m         \u001b[0;32mreturn\u001b[0m \u001b[0m_minimize_cg\u001b[0m\u001b[0;34m(\u001b[0m\u001b[0mfun\u001b[0m\u001b[0;34m,\u001b[0m \u001b[0mx0\u001b[0m\u001b[0;34m,\u001b[0m \u001b[0margs\u001b[0m\u001b[0;34m,\u001b[0m \u001b[0mjac\u001b[0m\u001b[0;34m,\u001b[0m \u001b[0mcallback\u001b[0m\u001b[0;34m,\u001b[0m \u001b[0;34m**\u001b[0m\u001b[0moptions\u001b[0m\u001b[0;34m)\u001b[0m\u001b[0;34m\u001b[0m\u001b[0m\n",
      "\u001b[0;32m/Users/mrizzo/anaconda2/lib/python2.7/site-packages/scipy/optimize/optimize.pyc\u001b[0m in \u001b[0;36m_minimize_powell\u001b[0;34m(func, x0, args, callback, xtol, ftol, maxiter, maxfev, disp, direc, return_all, **unknown_options)\u001b[0m\n\u001b[1;32m   2570\u001b[0m             \u001b[0mfx2\u001b[0m \u001b[0;34m=\u001b[0m \u001b[0mfval\u001b[0m\u001b[0;34m\u001b[0m\u001b[0m\n\u001b[1;32m   2571\u001b[0m             fval, x, direc1 = _linesearch_powell(func, x, direc1,\n\u001b[0;32m-> 2572\u001b[0;31m                                                  tol=xtol * 100)\n\u001b[0m\u001b[1;32m   2573\u001b[0m             \u001b[0;32mif\u001b[0m \u001b[0;34m(\u001b[0m\u001b[0mfx2\u001b[0m \u001b[0;34m-\u001b[0m \u001b[0mfval\u001b[0m\u001b[0;34m)\u001b[0m \u001b[0;34m>\u001b[0m \u001b[0mdelta\u001b[0m\u001b[0;34m:\u001b[0m\u001b[0;34m\u001b[0m\u001b[0m\n\u001b[1;32m   2574\u001b[0m                 \u001b[0mdelta\u001b[0m \u001b[0;34m=\u001b[0m \u001b[0mfx2\u001b[0m \u001b[0;34m-\u001b[0m \u001b[0mfval\u001b[0m\u001b[0;34m\u001b[0m\u001b[0m\n",
      "\u001b[0;32m/Users/mrizzo/anaconda2/lib/python2.7/site-packages/scipy/optimize/optimize.pyc\u001b[0m in \u001b[0;36m_linesearch_powell\u001b[0;34m(func, p, xi, tol)\u001b[0m\n\u001b[1;32m   2363\u001b[0m     \u001b[0;32mdef\u001b[0m \u001b[0mmyfunc\u001b[0m\u001b[0;34m(\u001b[0m\u001b[0malpha\u001b[0m\u001b[0;34m)\u001b[0m\u001b[0;34m:\u001b[0m\u001b[0;34m\u001b[0m\u001b[0m\n\u001b[1;32m   2364\u001b[0m         \u001b[0;32mreturn\u001b[0m \u001b[0mfunc\u001b[0m\u001b[0;34m(\u001b[0m\u001b[0mp\u001b[0m \u001b[0;34m+\u001b[0m \u001b[0malpha\u001b[0m\u001b[0;34m*\u001b[0m\u001b[0mxi\u001b[0m\u001b[0;34m)\u001b[0m\u001b[0;34m\u001b[0m\u001b[0m\n\u001b[0;32m-> 2365\u001b[0;31m     \u001b[0malpha_min\u001b[0m\u001b[0;34m,\u001b[0m \u001b[0mfret\u001b[0m\u001b[0;34m,\u001b[0m \u001b[0miter\u001b[0m\u001b[0;34m,\u001b[0m \u001b[0mnum\u001b[0m \u001b[0;34m=\u001b[0m \u001b[0mbrent\u001b[0m\u001b[0;34m(\u001b[0m\u001b[0mmyfunc\u001b[0m\u001b[0;34m,\u001b[0m \u001b[0mfull_output\u001b[0m\u001b[0;34m=\u001b[0m\u001b[0;36m1\u001b[0m\u001b[0;34m,\u001b[0m \u001b[0mtol\u001b[0m\u001b[0;34m=\u001b[0m\u001b[0mtol\u001b[0m\u001b[0;34m)\u001b[0m\u001b[0;34m\u001b[0m\u001b[0m\n\u001b[0m\u001b[1;32m   2366\u001b[0m     \u001b[0mxi\u001b[0m \u001b[0;34m=\u001b[0m \u001b[0malpha_min\u001b[0m\u001b[0;34m*\u001b[0m\u001b[0mxi\u001b[0m\u001b[0;34m\u001b[0m\u001b[0m\n\u001b[1;32m   2367\u001b[0m     \u001b[0;32mreturn\u001b[0m \u001b[0msqueeze\u001b[0m\u001b[0;34m(\u001b[0m\u001b[0mfret\u001b[0m\u001b[0;34m)\u001b[0m\u001b[0;34m,\u001b[0m \u001b[0mp\u001b[0m \u001b[0;34m+\u001b[0m \u001b[0mxi\u001b[0m\u001b[0;34m,\u001b[0m \u001b[0mxi\u001b[0m\u001b[0;34m\u001b[0m\u001b[0m\n",
      "\u001b[0;32m/Users/mrizzo/anaconda2/lib/python2.7/site-packages/scipy/optimize/optimize.pyc\u001b[0m in \u001b[0;36mbrent\u001b[0;34m(func, args, brack, tol, full_output, maxiter)\u001b[0m\n\u001b[1;32m   2074\u001b[0m     options = {'xtol': tol,\n\u001b[1;32m   2075\u001b[0m                'maxiter': maxiter}\n\u001b[0;32m-> 2076\u001b[0;31m     \u001b[0mres\u001b[0m \u001b[0;34m=\u001b[0m \u001b[0m_minimize_scalar_brent\u001b[0m\u001b[0;34m(\u001b[0m\u001b[0mfunc\u001b[0m\u001b[0;34m,\u001b[0m \u001b[0mbrack\u001b[0m\u001b[0;34m,\u001b[0m \u001b[0margs\u001b[0m\u001b[0;34m,\u001b[0m \u001b[0;34m**\u001b[0m\u001b[0moptions\u001b[0m\u001b[0;34m)\u001b[0m\u001b[0;34m\u001b[0m\u001b[0m\n\u001b[0m\u001b[1;32m   2077\u001b[0m     \u001b[0;32mif\u001b[0m \u001b[0mfull_output\u001b[0m\u001b[0;34m:\u001b[0m\u001b[0;34m\u001b[0m\u001b[0m\n\u001b[1;32m   2078\u001b[0m         \u001b[0;32mreturn\u001b[0m \u001b[0mres\u001b[0m\u001b[0;34m[\u001b[0m\u001b[0;34m'x'\u001b[0m\u001b[0;34m]\u001b[0m\u001b[0;34m,\u001b[0m \u001b[0mres\u001b[0m\u001b[0;34m[\u001b[0m\u001b[0;34m'fun'\u001b[0m\u001b[0;34m]\u001b[0m\u001b[0;34m,\u001b[0m \u001b[0mres\u001b[0m\u001b[0;34m[\u001b[0m\u001b[0;34m'nit'\u001b[0m\u001b[0;34m]\u001b[0m\u001b[0;34m,\u001b[0m \u001b[0mres\u001b[0m\u001b[0;34m[\u001b[0m\u001b[0;34m'nfev'\u001b[0m\u001b[0;34m]\u001b[0m\u001b[0;34m\u001b[0m\u001b[0m\n",
      "\u001b[0;32m/Users/mrizzo/anaconda2/lib/python2.7/site-packages/scipy/optimize/optimize.pyc\u001b[0m in \u001b[0;36m_minimize_scalar_brent\u001b[0;34m(func, brack, args, xtol, maxiter, **unknown_options)\u001b[0m\n\u001b[1;32m   2106\u001b[0m                   full_output=True, maxiter=maxiter)\n\u001b[1;32m   2107\u001b[0m     \u001b[0mbrent\u001b[0m\u001b[0;34m.\u001b[0m\u001b[0mset_bracket\u001b[0m\u001b[0;34m(\u001b[0m\u001b[0mbrack\u001b[0m\u001b[0;34m)\u001b[0m\u001b[0;34m\u001b[0m\u001b[0m\n\u001b[0;32m-> 2108\u001b[0;31m     \u001b[0mbrent\u001b[0m\u001b[0;34m.\u001b[0m\u001b[0moptimize\u001b[0m\u001b[0;34m(\u001b[0m\u001b[0;34m)\u001b[0m\u001b[0;34m\u001b[0m\u001b[0m\n\u001b[0m\u001b[1;32m   2109\u001b[0m     \u001b[0mx\u001b[0m\u001b[0;34m,\u001b[0m \u001b[0mfval\u001b[0m\u001b[0;34m,\u001b[0m \u001b[0mnit\u001b[0m\u001b[0;34m,\u001b[0m \u001b[0mnfev\u001b[0m \u001b[0;34m=\u001b[0m \u001b[0mbrent\u001b[0m\u001b[0;34m.\u001b[0m\u001b[0mget_result\u001b[0m\u001b[0;34m(\u001b[0m\u001b[0mfull_output\u001b[0m\u001b[0;34m=\u001b[0m\u001b[0mTrue\u001b[0m\u001b[0;34m)\u001b[0m\u001b[0;34m\u001b[0m\u001b[0m\n\u001b[1;32m   2110\u001b[0m     return OptimizeResult(fun=fval, x=x, nit=nit, nfev=nfev,\n",
      "\u001b[0;32m/Users/mrizzo/anaconda2/lib/python2.7/site-packages/scipy/optimize/optimize.pyc\u001b[0m in \u001b[0;36moptimize\u001b[0;34m(self)\u001b[0m\n\u001b[1;32m   1957\u001b[0m             \u001b[0;32melse\u001b[0m\u001b[0;34m:\u001b[0m\u001b[0;34m\u001b[0m\u001b[0m\n\u001b[1;32m   1958\u001b[0m                 \u001b[0mu\u001b[0m \u001b[0;34m=\u001b[0m \u001b[0mx\u001b[0m \u001b[0;34m+\u001b[0m \u001b[0mrat\u001b[0m\u001b[0;34m\u001b[0m\u001b[0m\n\u001b[0;32m-> 1959\u001b[0;31m             \u001b[0mfu\u001b[0m \u001b[0;34m=\u001b[0m \u001b[0mfunc\u001b[0m\u001b[0;34m(\u001b[0m\u001b[0;34m*\u001b[0m\u001b[0;34m(\u001b[0m\u001b[0;34m(\u001b[0m\u001b[0mu\u001b[0m\u001b[0;34m,\u001b[0m\u001b[0;34m)\u001b[0m \u001b[0;34m+\u001b[0m \u001b[0mself\u001b[0m\u001b[0;34m.\u001b[0m\u001b[0margs\u001b[0m\u001b[0;34m)\u001b[0m\u001b[0;34m)\u001b[0m      \u001b[0;31m# calculate new output value\u001b[0m\u001b[0;34m\u001b[0m\u001b[0m\n\u001b[0m\u001b[1;32m   1960\u001b[0m             \u001b[0mfuncalls\u001b[0m \u001b[0;34m+=\u001b[0m \u001b[0;36m1\u001b[0m\u001b[0;34m\u001b[0m\u001b[0m\n\u001b[1;32m   1961\u001b[0m \u001b[0;34m\u001b[0m\u001b[0m\n",
      "\u001b[0;32m/Users/mrizzo/anaconda2/lib/python2.7/site-packages/scipy/optimize/optimize.pyc\u001b[0m in \u001b[0;36mmyfunc\u001b[0;34m(alpha)\u001b[0m\n\u001b[1;32m   2362\u001b[0m     \"\"\"\n\u001b[1;32m   2363\u001b[0m     \u001b[0;32mdef\u001b[0m \u001b[0mmyfunc\u001b[0m\u001b[0;34m(\u001b[0m\u001b[0malpha\u001b[0m\u001b[0;34m)\u001b[0m\u001b[0;34m:\u001b[0m\u001b[0;34m\u001b[0m\u001b[0m\n\u001b[0;32m-> 2364\u001b[0;31m         \u001b[0;32mreturn\u001b[0m \u001b[0mfunc\u001b[0m\u001b[0;34m(\u001b[0m\u001b[0mp\u001b[0m \u001b[0;34m+\u001b[0m \u001b[0malpha\u001b[0m\u001b[0;34m*\u001b[0m\u001b[0mxi\u001b[0m\u001b[0;34m)\u001b[0m\u001b[0;34m\u001b[0m\u001b[0m\n\u001b[0m\u001b[1;32m   2365\u001b[0m     \u001b[0malpha_min\u001b[0m\u001b[0;34m,\u001b[0m \u001b[0mfret\u001b[0m\u001b[0;34m,\u001b[0m \u001b[0miter\u001b[0m\u001b[0;34m,\u001b[0m \u001b[0mnum\u001b[0m \u001b[0;34m=\u001b[0m \u001b[0mbrent\u001b[0m\u001b[0;34m(\u001b[0m\u001b[0mmyfunc\u001b[0m\u001b[0;34m,\u001b[0m \u001b[0mfull_output\u001b[0m\u001b[0;34m=\u001b[0m\u001b[0;36m1\u001b[0m\u001b[0;34m,\u001b[0m \u001b[0mtol\u001b[0m\u001b[0;34m=\u001b[0m\u001b[0mtol\u001b[0m\u001b[0;34m)\u001b[0m\u001b[0;34m\u001b[0m\u001b[0m\n\u001b[1;32m   2366\u001b[0m     \u001b[0mxi\u001b[0m \u001b[0;34m=\u001b[0m \u001b[0malpha_min\u001b[0m\u001b[0;34m*\u001b[0m\u001b[0mxi\u001b[0m\u001b[0;34m\u001b[0m\u001b[0m\n",
      "\u001b[0;32m/Users/mrizzo/anaconda2/lib/python2.7/site-packages/scipy/optimize/optimize.pyc\u001b[0m in \u001b[0;36mfunction_wrapper\u001b[0;34m(*wrapper_args)\u001b[0m\n\u001b[1;32m    290\u001b[0m     \u001b[0;32mdef\u001b[0m \u001b[0mfunction_wrapper\u001b[0m\u001b[0;34m(\u001b[0m\u001b[0;34m*\u001b[0m\u001b[0mwrapper_args\u001b[0m\u001b[0;34m)\u001b[0m\u001b[0;34m:\u001b[0m\u001b[0;34m\u001b[0m\u001b[0m\n\u001b[1;32m    291\u001b[0m         \u001b[0mncalls\u001b[0m\u001b[0;34m[\u001b[0m\u001b[0;36m0\u001b[0m\u001b[0;34m]\u001b[0m \u001b[0;34m+=\u001b[0m \u001b[0;36m1\u001b[0m\u001b[0;34m\u001b[0m\u001b[0m\n\u001b[0;32m--> 292\u001b[0;31m         \u001b[0;32mreturn\u001b[0m \u001b[0mfunction\u001b[0m\u001b[0;34m(\u001b[0m\u001b[0;34m*\u001b[0m\u001b[0;34m(\u001b[0m\u001b[0mwrapper_args\u001b[0m \u001b[0;34m+\u001b[0m \u001b[0margs\u001b[0m\u001b[0;34m)\u001b[0m\u001b[0;34m)\u001b[0m\u001b[0;34m\u001b[0m\u001b[0m\n\u001b[0m\u001b[1;32m    293\u001b[0m \u001b[0;34m\u001b[0m\u001b[0m\n\u001b[1;32m    294\u001b[0m     \u001b[0;32mreturn\u001b[0m \u001b[0mncalls\u001b[0m\u001b[0;34m,\u001b[0m \u001b[0mfunction_wrapper\u001b[0m\u001b[0;34m\u001b[0m\u001b[0m\n",
      "\u001b[0;32m/Users/mrizzo/anaconda2/lib/python2.7/site-packages/crispy-0.9-py2.7.egg/crispy/tools/locate_psflets.pyc\u001b[0m in \u001b[0;36mcorrval\u001b[0;34m(coef, x, y, filtered, order, trimfrac)\u001b[0m\n\u001b[1;32m    698\u001b[0m     \u001b[0;31m#################################################################\u001b[0m\u001b[0;34m\u001b[0m\u001b[0;34m\u001b[0m\u001b[0m\n\u001b[1;32m    699\u001b[0m \u001b[0;34m\u001b[0m\u001b[0m\n\u001b[0;32m--> 700\u001b[0;31m     \u001b[0m_x\u001b[0m\u001b[0;34m,\u001b[0m \u001b[0m_y\u001b[0m \u001b[0;34m=\u001b[0m \u001b[0mtransform\u001b[0m\u001b[0;34m(\u001b[0m\u001b[0mx\u001b[0m\u001b[0;34m,\u001b[0m \u001b[0my\u001b[0m\u001b[0;34m,\u001b[0m \u001b[0morder\u001b[0m\u001b[0;34m,\u001b[0m \u001b[0mcoef\u001b[0m\u001b[0;34m)\u001b[0m\u001b[0;34m\u001b[0m\u001b[0m\n\u001b[0m\u001b[1;32m    701\u001b[0m     vals = ndimage.map_coordinates(filtered, [_y, _x], mode='constant',\n\u001b[1;32m    702\u001b[0m                                    cval=np.nan, prefilter=False)\n",
      "\u001b[0;32m/Users/mrizzo/anaconda2/lib/python2.7/site-packages/crispy-0.9-py2.7.egg/crispy/tools/locate_psflets.pyc\u001b[0m in \u001b[0;36mtransform\u001b[0;34m(x, y, order, coef)\u001b[0m\n\u001b[1;32m    540\u001b[0m     \u001b[0;32mfor\u001b[0m \u001b[0mix\u001b[0m \u001b[0;32min\u001b[0m \u001b[0mrange\u001b[0m\u001b[0;34m(\u001b[0m\u001b[0morder\u001b[0m \u001b[0;34m+\u001b[0m \u001b[0;36m1\u001b[0m\u001b[0;34m)\u001b[0m\u001b[0;34m:\u001b[0m\u001b[0;34m\u001b[0m\u001b[0m\n\u001b[1;32m    541\u001b[0m         \u001b[0;32mfor\u001b[0m \u001b[0miy\u001b[0m \u001b[0;32min\u001b[0m \u001b[0mrange\u001b[0m\u001b[0;34m(\u001b[0m\u001b[0morder\u001b[0m \u001b[0;34m-\u001b[0m \u001b[0mix\u001b[0m \u001b[0;34m+\u001b[0m \u001b[0;36m1\u001b[0m\u001b[0;34m)\u001b[0m\u001b[0;34m:\u001b[0m\u001b[0;34m\u001b[0m\u001b[0m\n\u001b[0;32m--> 542\u001b[0;31m             \u001b[0m_x\u001b[0m \u001b[0;34m+=\u001b[0m \u001b[0mcoef\u001b[0m\u001b[0;34m[\u001b[0m\u001b[0mi\u001b[0m\u001b[0;34m]\u001b[0m \u001b[0;34m*\u001b[0m \u001b[0mx\u001b[0m\u001b[0;34m**\u001b[0m\u001b[0mix\u001b[0m \u001b[0;34m*\u001b[0m \u001b[0my\u001b[0m\u001b[0;34m**\u001b[0m\u001b[0miy\u001b[0m\u001b[0;34m\u001b[0m\u001b[0m\n\u001b[0m\u001b[1;32m    543\u001b[0m             \u001b[0mi\u001b[0m \u001b[0;34m+=\u001b[0m \u001b[0;36m1\u001b[0m\u001b[0;34m\u001b[0m\u001b[0m\n\u001b[1;32m    544\u001b[0m     \u001b[0;32mfor\u001b[0m \u001b[0mix\u001b[0m \u001b[0;32min\u001b[0m \u001b[0mrange\u001b[0m\u001b[0;34m(\u001b[0m\u001b[0morder\u001b[0m \u001b[0;34m+\u001b[0m \u001b[0;36m1\u001b[0m\u001b[0;34m)\u001b[0m\u001b[0;34m:\u001b[0m\u001b[0;34m\u001b[0m\u001b[0m\n",
      "\u001b[0;31mKeyboardInterrupt\u001b[0m: "
     ]
    }
   ],
   "source": [
    "# We need to run the calibration for the first time\n",
    "from crispy.tools.wavecal import buildcalibrations\n",
    "par.gaussian_hires=False # since par.gaussian_hires is False, it will attempt to make high-resolution PSFLets\n",
    "buildcalibrations(par,\n",
    "                    inspect=True,\n",
    "                    inspect_first=True,\n",
    "                    genwavelengthsol=True, # Compute wavelength at the center of all pixels\n",
    "                    makehiresPSFlets=True, # this requires very high SNR on the monochromatic frames\n",
    "                    makePolychrome=True,   # This is needed to use least squares extraction\n",
    "                    makePSFWidths=True,    # Fit PSF widths from high-res PSFLet models\n",
    "                    upsample=3,            # upsampling factor of the high-resolution PSFLets\n",
    "                    nsubarr=4,             # the detector is divided into nsubarr^2 regions for PSFLet averaging\n",
    "                    apodize=False,         # to match PSFlet spot locations, only use the inner circular part of the \n",
    "                                           # detector, hence discarding the corners of the detector where lenslets are \n",
    "                                           # distorted\n",
    "                    finecal=True,          # Attempt at doing fine wavelength calibration (need high SNR!)\n",
    "                    trimfrac=0.1,\n",
    "                  ) "
   ]
  },
  {
   "cell_type": "code",
   "execution_count": 11,
   "metadata": {
    "ExecuteTime": {
     "end_time": "2019-01-29T15:21:18.808964Z",
     "start_time": "2019-01-29T15:21:18.772746Z"
    }
   },
   "outputs": [
    {
     "name": "stdout",
     "output_type": "stream",
     "text": [
      "crispy - INFO - Reduced cube will have 25 wavelength bins\n",
      "('Wavelengths at midpoints for lstsq (nm): ', array([694.09767464, 699.12011712, 704.17890165, 709.27429119,\n",
      "       714.40655062, 719.57594672, 724.78274821, 730.02722575,\n",
      "       735.30965197, 740.63030146, 745.98945079, 751.38737856,\n",
      "       756.82436536, 762.30069381, 767.8166486 , 773.37251645,\n",
      "       778.96858618, 784.60514868, 790.28249695, 796.00092612,\n",
      "       801.76073344, 807.56221833, 813.40568236, 819.29142929,\n",
      "       825.21976507]))\n",
      "('Wavelengths at endpoints for lstsq (nm): ', array([691.6       , 696.60436949, 701.64495024, 706.72200429,\n",
      "       711.83579554, 716.98658984, 722.17465492, 727.40026048,\n",
      "       732.66367816, 737.96518157, 743.30504628, 748.68354988,\n",
      "       754.10097196, 759.55759413, 765.05370004, 770.58957539,\n",
      "       776.16550795, 781.78178757, 787.43870619, 793.13655789,\n",
      "       798.87563885, 804.65624739, 810.47868402, 816.34325139,\n",
      "       822.25025436, 828.2       ]))\n",
      "crispy - INFO - Reduced cube will have 25 wavelength bins\n",
      "('Wavelengths at midpoints for optext (nm): ', array([694.09767464, 699.12011712, 704.17890165, 709.27429119,\n",
      "       714.40655062, 719.57594672, 724.78274821, 730.02722575,\n",
      "       735.30965197, 740.63030146, 745.98945079, 751.38737856,\n",
      "       756.82436536, 762.30069381, 767.8166486 , 773.37251645,\n",
      "       778.96858618, 784.60514868, 790.28249695, 796.00092612,\n",
      "       801.76073344, 807.56221833, 813.40568236, 819.29142929,\n",
      "       825.21976507]))\n",
      "('Wavelengths at endpoints for optext (nm): ', array([691.6       , 696.60436949, 701.64495024, 706.72200429,\n",
      "       711.83579554, 716.98658984, 722.17465492, 727.40026048,\n",
      "       732.66367816, 737.96518157, 743.30504628, 748.68354988,\n",
      "       754.10097196, 759.55759413, 765.05370004, 770.58957539,\n",
      "       776.16550795, 781.78178757, 787.43870619, 793.13655789,\n",
      "       798.87563885, 804.65624739, 810.47868402, 816.34325139,\n",
      "       822.25025436, 828.2       ]))\n"
     ]
    }
   ],
   "source": [
    "from crispy.tools.reduction import calculateWaveList\n",
    "lam_midpts,lam_endpts = calculateWaveList(par,method='lstsq')\n",
    "print('Wavelengths at midpoints for lstsq (nm): ',lam_midpts)\n",
    "print('Wavelengths at endpoints for lstsq (nm): ',lam_endpts)\n",
    "lam_midpts,lam_endpts = calculateWaveList(par,method='optext')\n",
    "print('Wavelengths at midpoints for optext (nm): ',lam_midpts)\n",
    "print('Wavelengths at endpoints for optext (nm): ',lam_endpts)"
   ]
  },
  {
   "cell_type": "code",
   "execution_count": 14,
   "metadata": {
    "ExecuteTime": {
     "end_time": "2019-01-29T18:16:29.455754Z",
     "start_time": "2019-01-29T18:16:26.655244Z"
    }
   },
   "outputs": [
    {
     "name": "stdout",
     "output_type": "stream",
     "text": [
      "crispy - INFO - Read data from HDU 0 of ..//ReferenceFiles/Calibra_20190128//det750.8.fits\n",
      "crispy - INFO - Mean, median, std: (2791.063817853376, 2718.0, 205.08057983725396)\n",
      "crispy - INFO - Reduced cube will have 25 wavelength bins\n",
      "crispy - INFO - Elapsed time: 2.780445s\n"
     ]
    }
   ],
   "source": [
    "from crispy.IFS import reduceIFSMap\n",
    "cube = reduceIFSMap(par,par.wavecalDir+'/det750.8.fits',method='sum',smoothbad=False,medsub=False)\n"
   ]
  },
  {
   "cell_type": "code",
   "execution_count": 28,
   "metadata": {
    "ExecuteTime": {
     "end_time": "2019-01-29T18:26:51.488326Z",
     "start_time": "2019-01-29T18:26:51.471253Z"
    }
   },
   "outputs": [
    {
     "name": "stdout",
     "output_type": "stream",
     "text": [
      "0.1102917552298997\n",
      "750.3997682816271\n"
     ]
    }
   ],
   "source": [
    "from crispy.wavecal import fit_monochromatic_cube\n",
    "popt,pcov = fit_monochromatic_cube(cube.data,\n",
    "                        lam_midpts,\n",
    "                      returnAll=True)\n",
    "\n",
    "print np.sqrt(pcov[1][1])\n",
    "print popt[1]"
   ]
  }
 ],
 "metadata": {
  "kernelspec": {
   "display_name": "Python 2",
   "language": "python",
   "name": "python2"
  },
  "language_info": {
   "codemirror_mode": {
    "name": "ipython",
    "version": 2
   },
   "file_extension": ".py",
   "mimetype": "text/x-python",
   "name": "python",
   "nbconvert_exporter": "python",
   "pygments_lexer": "ipython2",
   "version": "2.7.15"
  },
  "latex_envs": {
   "LaTeX_envs_menu_present": true,
   "autoclose": false,
   "autocomplete": true,
   "bibliofile": "biblio.bib",
   "cite_by": "apalike",
   "current_citInitial": 1,
   "eqLabelWithNumbers": true,
   "eqNumInitial": 1,
   "hotkeys": {
    "equation": "Ctrl-E",
    "itemize": "Ctrl-I"
   },
   "labels_anchors": false,
   "latex_user_defs": false,
   "report_style_numbering": false,
   "user_envs_cfg": false
  },
  "toc": {
   "nav_menu": {},
   "number_sections": true,
   "sideBar": true,
   "skip_h1_title": false,
   "title_cell": "Table of Contents",
   "title_sidebar": "Contents",
   "toc_cell": false,
   "toc_position": {},
   "toc_section_display": true,
   "toc_window_display": false
  },
  "varInspector": {
   "cols": {
    "lenName": 16,
    "lenType": 16,
    "lenVar": 40
   },
   "kernels_config": {
    "python": {
     "delete_cmd_postfix": "",
     "delete_cmd_prefix": "del ",
     "library": "var_list.py",
     "varRefreshCmd": "print(var_dic_list())"
    },
    "r": {
     "delete_cmd_postfix": ") ",
     "delete_cmd_prefix": "rm(",
     "library": "var_list.r",
     "varRefreshCmd": "cat(var_dic_list()) "
    }
   },
   "types_to_exclude": [
    "module",
    "function",
    "builtin_function_or_method",
    "instance",
    "_Feature"
   ],
   "window_display": false
  }
 },
 "nbformat": 4,
 "nbformat_minor": 2
}
