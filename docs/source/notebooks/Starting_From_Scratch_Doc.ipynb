{
 "cells": [
  {
   "cell_type": "markdown",
   "metadata": {},
   "source": [
    "# Starting an IFS simulation from scratch"
   ]
  },
  {
   "cell_type": "markdown",
   "metadata": {},
   "source": [
    "Let's suppose that you want to model the ideal IFS and don't have any idea (or don't really care) about what the PSFLets look like and where they are located. In that case, you don't need any datafile and can get started ASAP!"
   ]
  },
  {
   "cell_type": "markdown",
   "metadata": {},
   "source": [
    "Let's load things first."
   ]
  },
  {
   "cell_type": "code",
   "execution_count": 1,
   "metadata": {
    "ExecuteTime": {
     "end_time": "2018-10-03T19:31:18.544229Z",
     "start_time": "2018-10-03T19:31:18.189367Z"
    }
   },
   "outputs": [
    {
     "name": "stdout",
     "output_type": "stream",
     "text": [
      "Populating the interactive namespace from numpy and matplotlib\n"
     ]
    }
   ],
   "source": [
    "import numpy as np\n",
    "import glob\n",
    "%pylab inline --no-import-all\n",
    "plt.rc('font', family='serif', serif='Times',size=20)\n",
    "plt.rc('text', usetex=True)\n",
    "plt.rc('xtick', labelsize=20)\n",
    "plt.rc('xtick.major', size=10)\n",
    "plt.rc('ytick.major', size=10)\n",
    "plt.rc('ytick', labelsize=20)\n",
    "plt.rc('axes', labelsize=20)\n",
    "plt.rc('figure',titlesize=20)\n",
    "plt.rc('image',origin='lower',interpolation='nearest')\n",
    "\n",
    "import sys\n",
    "import os"
   ]
  },
  {
   "cell_type": "markdown",
   "metadata": {},
   "source": [
    "### Initializes the logger used throughout the software\n"
   ]
  },
  {
   "cell_type": "code",
   "execution_count": 2,
   "metadata": {
    "ExecuteTime": {
     "end_time": "2018-10-03T19:31:18.552590Z",
     "start_time": "2018-10-03T19:31:18.546900Z"
    },
    "collapsed": true
   },
   "outputs": [],
   "source": [
    "from crispy.tools.initLogger import getLogger\n",
    "log = getLogger('crispy')"
   ]
  },
  {
   "cell_type": "markdown",
   "metadata": {},
   "source": [
    "### Operate in your working directory (where your parameter file lives)"
   ]
  },
  {
   "cell_type": "code",
   "execution_count": 3,
   "metadata": {
    "ExecuteTime": {
     "end_time": "2018-10-03T19:31:18.559410Z",
     "start_time": "2018-10-03T19:31:18.555428Z"
    },
    "collapsed": true
   },
   "outputs": [],
   "source": [
    "os.chdir('/Users/mrizzo/IFS/crispy/crispy/WFIRST/')\n",
    "# os.chdir('/Users/mrizzo/IFS/crispy/crispy/WFIRST_SC/')"
   ]
  },
  {
   "cell_type": "markdown",
   "metadata": {},
   "source": [
    "### Load parameters"
   ]
  },
  {
   "cell_type": "code",
   "execution_count": 4,
   "metadata": {
    "ExecuteTime": {
     "end_time": "2018-10-03T19:31:19.047529Z",
     "start_time": "2018-10-03T19:31:18.562410Z"
    }
   },
   "outputs": [
    {
     "data": {
      "text/plain": [
       "SIMPLE  =                    T / conforms to FITS standard                      \n",
       "BITPIX  =                    8 / array data type                                \n",
       "NAXIS   =                    0 / number of array dimensions                     \n",
       "EXTEND  =                    T                                                  \n",
       "COMMENT                                                                         \n",
       "COMMENT ************************************************************            \n",
       "COMMENT ********************** General parameters ******************            \n",
       "COMMENT ************************************************************            \n",
       "COMMENT                                                                         \n",
       "NLENS   =                  108 / # lenslets across array                        \n",
       "PITCH   =             0.000174 / Lenslet pitch (meters)                         \n",
       "INTERLAC=                  2.0 / Interlacing                                    \n",
       "PHILENS =    26.56505117707799 / Rotation angle of the lenslets (deg)           \n",
       "PIXSIZE =              1.3E-05 / Pixel size (meters)                            \n",
       "LENSAMP =                  0.5 / Lenslet sampling (lam/D)                       \n",
       "LSAMPWAV=                660.0 / Lenslet sampling wavelength (nm)               \n",
       "FWHM    =                  2.0 / FHWM of PSFLet at detector (pixels)            \n",
       "FWHMLAM =                660.0 / Wavelength at which FWHM is defined (nm)       \n",
       "NPIX    =                 1024 / Number of detector pixels                      \n",
       "BW      =                 0.18 / Bandwidth                                      \n",
       "PIXPRLAM=                  2.0 / Pixels per resolution element                  \n",
       "RESLSTSQ=                  2.0 / Nspec per Nyq. sample for lstsq extraction     \n",
       "R       =                   50 / Spectral resolution                            "
      ]
     },
     "execution_count": 4,
     "metadata": {},
     "output_type": "execute_result"
    }
   ],
   "source": [
    "from params import Params\n",
    "par = Params()\n",
    "par.hdr"
   ]
  },
  {
   "cell_type": "markdown",
   "metadata": {},
   "source": [
    "First off, you are going to trick crispy into building a fake wavelength calibration. This is usually important because in the real world, the wavelength calibration is the step that ensures that you can get good data out of your IFS images. For this exercise, you are going to use an a priori wavelength calibration (it's built into crispy) to generate monochromatic flatfields. From these flatfields, you are going to build up your wavelength calibration - just like in real life!"
   ]
  },
  {
   "cell_type": "markdown",
   "metadata": {},
   "source": [
    "## Generate monochromatic flats"
   ]
  },
  {
   "cell_type": "markdown",
   "metadata": {},
   "source": [
    "So, what's our wavelength range? We are going to use the fiducial case of 600nm - 720nm, which is the first band of the WFIRST IFS. We are going to construct a few monochromatic flats across that range. The function we need is in the IFS module (that one has a lot of important functions)."
   ]
  },
  {
   "cell_type": "code",
   "execution_count": 5,
   "metadata": {
    "ExecuteTime": {
     "end_time": "2018-10-03T19:31:19.878229Z",
     "start_time": "2018-10-03T19:31:19.051103Z"
    }
   },
   "outputs": [
    {
     "name": "stdout",
     "output_type": "stream",
     "text": [
      "Help on function createWavecalFiles in module crispy.IFS:\n",
      "\n",
      "createWavecalFiles(par, lamlist, dlam=1.0, flux=None, background=0.0)\n",
      "    Creates a set of monochromatic IFS images to be used in wavelength calibration step\n",
      "    \n",
      "    Parameters\n",
      "    ----------\n",
      "    par:   Parameter instance\n",
      "            Contains all IFS parameters\n",
      "    lamlist: list or array of floats\n",
      "            List of discrete wavelengths in nm at which to create a monochromatic flat\n",
      "    dlam:  float\n",
      "            Width in nm of the small band for each of the monochromatic wavelengths.\n",
      "            Default is 1 nm. This has no effect unless we are trying to add any noise.\n",
      "    flux: float\n",
      "            Number of counts per lenslet. If a noiseless\n",
      "            image is preferred, leave this to None\n",
      "    background: float\n",
      "            Adds Poisson-distributed background to the image. Leave to None to ignore.\n",
      "    \n",
      "    Notes\n",
      "    -----\n",
      "    This function populates the fields par.lamlist and par.filelist which are subsequently\n",
      "    used by the buildcalibrations function. If this createWavecalFiles is not called, the\n",
      "    two fields need to be populated manually with the set of files and wavelengths that\n",
      "    you want to use for the calibration.\n",
      "\n"
     ]
    }
   ],
   "source": [
    "from crispy.IFS import createWavecalFiles\n",
    "help(createWavecalFiles)"
   ]
  },
  {
   "cell_type": "markdown",
   "metadata": {},
   "source": [
    "So here we go:"
   ]
  },
  {
   "cell_type": "code",
   "execution_count": 6,
   "metadata": {
    "ExecuteTime": {
     "end_time": "2018-10-03T19:31:19.892242Z",
     "start_time": "2018-10-03T19:31:19.880852Z"
    }
   },
   "outputs": [
    {
     "name": "stdout",
     "output_type": "stream",
     "text": [
      "crispy - INFO - Wavecal folder is: ..//ReferenceFiles/wavecalR50_770/\n",
      "crispy - INFO - [ 700.7  705.7  710.7  715.7  720.7  725.7  730.7  735.7  740.7  745.7\n",
      "  750.7  755.7  760.7  765.7  770.7  775.7  780.7  785.7  790.7  795.7\n",
      "  800.7  805.7  810.7  815.7  820.7  825.7  830.7  835.7  840.7]\n"
     ]
    }
   ],
   "source": [
    "lamc=770.\n",
    "lamlist = np.arange(lamc*(1.-par.BW/2.),lamc*(1.+par.BW/2.)+5.,5.)\n",
    "# lamlist = lamc*np.linspace(1.-BW/2.,1.+BW/2.,fileshape[0])\n",
    "\n",
    "# let's create our new wavelength calibration directory to not mess up anything\n",
    "# comment this out if this was already done and you are fine overriding the files in your folder\n",
    "# try:\n",
    "#     os.makedirs(par.prefix+'/testWavecal660')\n",
    "# except OSError:\n",
    "#     log.error('Wavecal folder already exists!')\n",
    "#     raise\n",
    "\n",
    "log.info('Wavecal folder is: %s' % par.wavecalDir)\n",
    "log.info(lamlist)"
   ]
  },
  {
   "cell_type": "code",
   "execution_count": 7,
   "metadata": {
    "ExecuteTime": {
     "end_time": "2018-10-03T19:33:46.497936Z",
     "start_time": "2018-10-03T19:31:19.895063Z"
    },
    "scrolled": false
   },
   "outputs": [
    {
     "name": "stdout",
     "output_type": "stream",
     "text": [
      "crispy - INFO - The number of input pixels per lenslet is 4.281822\n",
      "crispy - INFO - Using PSFlet gaussian approximation\n",
      "crispy - WARNING - Assuming slices are evenly spread in wavelengths\n",
      "crispy - INFO - Creating Gaussian PSFLet templates\n",
      "crispy - INFO - Writing data to ..//SimResults/detectorFramepoly.fits\n",
      "crispy - INFO - Done.\n",
      "crispy - INFO - Performance: 4 seconds total\n",
      "crispy - INFO - Writing data to ..//ReferenceFiles/wavecalR50_770/det_700.fits\n",
      "crispy - INFO - The number of input pixels per lenslet is 4.281822\n",
      "crispy - INFO - Using PSFlet gaussian approximation\n",
      "crispy - WARNING - Assuming slices are evenly spread in wavelengths\n",
      "crispy - INFO - Creating Gaussian PSFLet templates\n",
      "crispy - INFO - Writing data to ..//SimResults/detectorFramepoly.fits\n",
      "crispy - INFO - Done.\n",
      "crispy - INFO - Performance: 4 seconds total\n",
      "crispy - INFO - Writing data to ..//ReferenceFiles/wavecalR50_770/det_705.fits\n",
      "crispy - INFO - The number of input pixels per lenslet is 4.281822\n",
      "crispy - INFO - Using PSFlet gaussian approximation\n",
      "crispy - WARNING - Assuming slices are evenly spread in wavelengths\n",
      "crispy - INFO - Creating Gaussian PSFLet templates\n",
      "crispy - INFO - Writing data to ..//SimResults/detectorFramepoly.fits\n",
      "crispy - INFO - Done.\n",
      "crispy - INFO - Performance: 4 seconds total\n",
      "crispy - INFO - Writing data to ..//ReferenceFiles/wavecalR50_770/det_710.fits\n",
      "crispy - INFO - The number of input pixels per lenslet is 4.281822\n",
      "crispy - INFO - Using PSFlet gaussian approximation\n",
      "crispy - WARNING - Assuming slices are evenly spread in wavelengths\n",
      "crispy - INFO - Creating Gaussian PSFLet templates\n",
      "crispy - INFO - Writing data to ..//SimResults/detectorFramepoly.fits\n",
      "crispy - INFO - Done.\n",
      "crispy - INFO - Performance: 4 seconds total\n",
      "crispy - INFO - Writing data to ..//ReferenceFiles/wavecalR50_770/det_715.fits\n",
      "crispy - INFO - The number of input pixels per lenslet is 4.281822\n",
      "crispy - INFO - Using PSFlet gaussian approximation\n",
      "crispy - WARNING - Assuming slices are evenly spread in wavelengths\n",
      "crispy - INFO - Creating Gaussian PSFLet templates\n",
      "crispy - INFO - Writing data to ..//SimResults/detectorFramepoly.fits\n",
      "crispy - INFO - Done.\n",
      "crispy - INFO - Performance: 4 seconds total\n",
      "crispy - INFO - Writing data to ..//ReferenceFiles/wavecalR50_770/det_720.fits\n",
      "crispy - INFO - The number of input pixels per lenslet is 4.281822\n",
      "crispy - INFO - Using PSFlet gaussian approximation\n",
      "crispy - WARNING - Assuming slices are evenly spread in wavelengths\n",
      "crispy - INFO - Creating Gaussian PSFLet templates\n",
      "crispy - INFO - Writing data to ..//SimResults/detectorFramepoly.fits\n",
      "crispy - INFO - Done.\n",
      "crispy - INFO - Performance: 4 seconds total\n",
      "crispy - INFO - Writing data to ..//ReferenceFiles/wavecalR50_770/det_725.fits\n",
      "crispy - INFO - The number of input pixels per lenslet is 4.281822\n",
      "crispy - INFO - Using PSFlet gaussian approximation\n",
      "crispy - WARNING - Assuming slices are evenly spread in wavelengths\n",
      "crispy - INFO - Creating Gaussian PSFLet templates\n",
      "crispy - INFO - Writing data to ..//SimResults/detectorFramepoly.fits\n",
      "crispy - INFO - Done.\n",
      "crispy - INFO - Performance: 4 seconds total\n",
      "crispy - INFO - Writing data to ..//ReferenceFiles/wavecalR50_770/det_730.fits\n",
      "crispy - INFO - The number of input pixels per lenslet is 4.281822\n",
      "crispy - INFO - Using PSFlet gaussian approximation\n",
      "crispy - WARNING - Assuming slices are evenly spread in wavelengths\n",
      "crispy - INFO - Creating Gaussian PSFLet templates\n",
      "crispy - INFO - Writing data to ..//SimResults/detectorFramepoly.fits\n",
      "crispy - INFO - Done.\n",
      "crispy - INFO - Performance: 5 seconds total\n",
      "crispy - INFO - Writing data to ..//ReferenceFiles/wavecalR50_770/det_735.fits\n",
      "crispy - INFO - The number of input pixels per lenslet is 4.281822\n",
      "crispy - INFO - Using PSFlet gaussian approximation\n",
      "crispy - WARNING - Assuming slices are evenly spread in wavelengths\n",
      "crispy - INFO - Creating Gaussian PSFLet templates\n",
      "crispy - INFO - Writing data to ..//SimResults/detectorFramepoly.fits\n",
      "crispy - INFO - Done.\n",
      "crispy - INFO - Performance: 5 seconds total\n",
      "crispy - INFO - Writing data to ..//ReferenceFiles/wavecalR50_770/det_740.fits\n",
      "crispy - INFO - The number of input pixels per lenslet is 4.281822\n",
      "crispy - INFO - Using PSFlet gaussian approximation\n",
      "crispy - WARNING - Assuming slices are evenly spread in wavelengths\n",
      "crispy - INFO - Creating Gaussian PSFLet templates\n",
      "crispy - INFO - Writing data to ..//SimResults/detectorFramepoly.fits\n",
      "crispy - INFO - Done.\n",
      "crispy - INFO - Performance: 4 seconds total\n",
      "crispy - INFO - Writing data to ..//ReferenceFiles/wavecalR50_770/det_745.fits\n",
      "crispy - INFO - The number of input pixels per lenslet is 4.281822\n",
      "crispy - INFO - Using PSFlet gaussian approximation\n",
      "crispy - WARNING - Assuming slices are evenly spread in wavelengths\n",
      "crispy - INFO - Creating Gaussian PSFLet templates\n",
      "crispy - INFO - Writing data to ..//SimResults/detectorFramepoly.fits\n",
      "crispy - INFO - Done.\n",
      "crispy - INFO - Performance: 4 seconds total\n",
      "crispy - INFO - Writing data to ..//ReferenceFiles/wavecalR50_770/det_750.fits\n",
      "crispy - INFO - The number of input pixels per lenslet is 4.281822\n",
      "crispy - INFO - Using PSFlet gaussian approximation\n",
      "crispy - WARNING - Assuming slices are evenly spread in wavelengths\n",
      "crispy - INFO - Creating Gaussian PSFLet templates\n",
      "crispy - INFO - Writing data to ..//SimResults/detectorFramepoly.fits\n",
      "crispy - INFO - Done.\n",
      "crispy - INFO - Performance: 4 seconds total\n",
      "crispy - INFO - Writing data to ..//ReferenceFiles/wavecalR50_770/det_755.fits\n",
      "crispy - INFO - The number of input pixels per lenslet is 4.281822\n",
      "crispy - INFO - Using PSFlet gaussian approximation\n",
      "crispy - WARNING - Assuming slices are evenly spread in wavelengths\n",
      "crispy - INFO - Creating Gaussian PSFLet templates\n",
      "crispy - INFO - Writing data to ..//SimResults/detectorFramepoly.fits\n",
      "crispy - INFO - Done.\n",
      "crispy - INFO - Performance: 4 seconds total\n",
      "crispy - INFO - Writing data to ..//ReferenceFiles/wavecalR50_770/det_760.fits\n",
      "crispy - INFO - The number of input pixels per lenslet is 4.281822\n",
      "crispy - INFO - Using PSFlet gaussian approximation\n",
      "crispy - WARNING - Assuming slices are evenly spread in wavelengths\n",
      "crispy - INFO - Creating Gaussian PSFLet templates\n",
      "crispy - INFO - Writing data to ..//SimResults/detectorFramepoly.fits\n",
      "crispy - INFO - Done.\n",
      "crispy - INFO - Performance: 5 seconds total\n",
      "crispy - INFO - Writing data to ..//ReferenceFiles/wavecalR50_770/det_765.fits\n",
      "crispy - INFO - The number of input pixels per lenslet is 4.281822\n",
      "crispy - INFO - Using PSFlet gaussian approximation\n",
      "crispy - WARNING - Assuming slices are evenly spread in wavelengths\n",
      "crispy - INFO - Creating Gaussian PSFLet templates\n",
      "crispy - INFO - Writing data to ..//SimResults/detectorFramepoly.fits\n",
      "crispy - INFO - Done.\n",
      "crispy - INFO - Performance: 4 seconds total\n",
      "crispy - INFO - Writing data to ..//ReferenceFiles/wavecalR50_770/det_770.fits\n",
      "crispy - INFO - The number of input pixels per lenslet is 4.281822\n",
      "crispy - INFO - Using PSFlet gaussian approximation\n",
      "crispy - WARNING - Assuming slices are evenly spread in wavelengths\n",
      "crispy - INFO - Creating Gaussian PSFLet templates\n",
      "crispy - INFO - Writing data to ..//SimResults/detectorFramepoly.fits\n",
      "crispy - INFO - Done.\n",
      "crispy - INFO - Performance: 4 seconds total\n",
      "crispy - INFO - Writing data to ..//ReferenceFiles/wavecalR50_770/det_775.fits\n",
      "crispy - INFO - The number of input pixels per lenslet is 4.281822\n",
      "crispy - INFO - Using PSFlet gaussian approximation\n",
      "crispy - WARNING - Assuming slices are evenly spread in wavelengths\n",
      "crispy - INFO - Creating Gaussian PSFLet templates\n",
      "crispy - INFO - Writing data to ..//SimResults/detectorFramepoly.fits\n",
      "crispy - INFO - Done.\n",
      "crispy - INFO - Performance: 5 seconds total\n",
      "crispy - INFO - Writing data to ..//ReferenceFiles/wavecalR50_770/det_780.fits\n",
      "crispy - INFO - The number of input pixels per lenslet is 4.281822\n",
      "crispy - INFO - Using PSFlet gaussian approximation\n",
      "crispy - WARNING - Assuming slices are evenly spread in wavelengths\n",
      "crispy - INFO - Creating Gaussian PSFLet templates\n",
      "crispy - INFO - Writing data to ..//SimResults/detectorFramepoly.fits\n",
      "crispy - INFO - Done.\n",
      "crispy - INFO - Performance: 5 seconds total\n",
      "crispy - INFO - Writing data to ..//ReferenceFiles/wavecalR50_770/det_785.fits\n",
      "crispy - INFO - The number of input pixels per lenslet is 4.281822\n"
     ]
    },
    {
     "name": "stdout",
     "output_type": "stream",
     "text": [
      "crispy - INFO - Using PSFlet gaussian approximation\n",
      "crispy - WARNING - Assuming slices are evenly spread in wavelengths\n",
      "crispy - INFO - Creating Gaussian PSFLet templates\n",
      "crispy - INFO - Writing data to ..//SimResults/detectorFramepoly.fits\n",
      "crispy - INFO - Done.\n",
      "crispy - INFO - Performance: 4 seconds total\n",
      "crispy - INFO - Writing data to ..//ReferenceFiles/wavecalR50_770/det_790.fits\n",
      "crispy - INFO - The number of input pixels per lenslet is 4.281822\n",
      "crispy - INFO - Using PSFlet gaussian approximation\n",
      "crispy - WARNING - Assuming slices are evenly spread in wavelengths\n",
      "crispy - INFO - Creating Gaussian PSFLet templates\n",
      "crispy - INFO - Writing data to ..//SimResults/detectorFramepoly.fits\n",
      "crispy - INFO - Done.\n",
      "crispy - INFO - Performance: 4 seconds total\n",
      "crispy - INFO - Writing data to ..//ReferenceFiles/wavecalR50_770/det_795.fits\n",
      "crispy - INFO - The number of input pixels per lenslet is 4.281822\n",
      "crispy - INFO - Using PSFlet gaussian approximation\n",
      "crispy - WARNING - Assuming slices are evenly spread in wavelengths\n",
      "crispy - INFO - Creating Gaussian PSFLet templates\n",
      "crispy - INFO - Writing data to ..//SimResults/detectorFramepoly.fits\n",
      "crispy - INFO - Done.\n",
      "crispy - INFO - Performance: 5 seconds total\n",
      "crispy - INFO - Writing data to ..//ReferenceFiles/wavecalR50_770/det_800.fits\n",
      "crispy - INFO - The number of input pixels per lenslet is 4.281822\n",
      "crispy - INFO - Using PSFlet gaussian approximation\n",
      "crispy - WARNING - Assuming slices are evenly spread in wavelengths\n",
      "crispy - INFO - Creating Gaussian PSFLet templates\n",
      "crispy - INFO - Writing data to ..//SimResults/detectorFramepoly.fits\n",
      "crispy - INFO - Done.\n",
      "crispy - INFO - Performance: 4 seconds total\n",
      "crispy - INFO - Writing data to ..//ReferenceFiles/wavecalR50_770/det_805.fits\n",
      "crispy - INFO - The number of input pixels per lenslet is 4.281822\n",
      "crispy - INFO - Using PSFlet gaussian approximation\n",
      "crispy - WARNING - Assuming slices are evenly spread in wavelengths\n",
      "crispy - INFO - Creating Gaussian PSFLet templates\n",
      "crispy - INFO - Writing data to ..//SimResults/detectorFramepoly.fits\n",
      "crispy - INFO - Done.\n",
      "crispy - INFO - Performance: 4 seconds total\n",
      "crispy - INFO - Writing data to ..//ReferenceFiles/wavecalR50_770/det_810.fits\n",
      "crispy - INFO - The number of input pixels per lenslet is 4.281822\n",
      "crispy - INFO - Using PSFlet gaussian approximation\n",
      "crispy - WARNING - Assuming slices are evenly spread in wavelengths\n",
      "crispy - INFO - Creating Gaussian PSFLet templates\n",
      "crispy - INFO - Writing data to ..//SimResults/detectorFramepoly.fits\n",
      "crispy - INFO - Done.\n",
      "crispy - INFO - Performance: 5 seconds total\n",
      "crispy - INFO - Writing data to ..//ReferenceFiles/wavecalR50_770/det_815.fits\n",
      "crispy - INFO - The number of input pixels per lenslet is 4.281822\n",
      "crispy - INFO - Using PSFlet gaussian approximation\n",
      "crispy - WARNING - Assuming slices are evenly spread in wavelengths\n",
      "crispy - INFO - Creating Gaussian PSFLet templates\n",
      "crispy - INFO - Writing data to ..//SimResults/detectorFramepoly.fits\n",
      "crispy - INFO - Done.\n",
      "crispy - INFO - Performance: 5 seconds total\n",
      "crispy - INFO - Writing data to ..//ReferenceFiles/wavecalR50_770/det_820.fits\n",
      "crispy - INFO - The number of input pixels per lenslet is 4.281822\n",
      "crispy - INFO - Using PSFlet gaussian approximation\n",
      "crispy - WARNING - Assuming slices are evenly spread in wavelengths\n",
      "crispy - INFO - Creating Gaussian PSFLet templates\n",
      "crispy - INFO - Writing data to ..//SimResults/detectorFramepoly.fits\n",
      "crispy - INFO - Done.\n",
      "crispy - INFO - Performance: 4 seconds total\n",
      "crispy - INFO - Writing data to ..//ReferenceFiles/wavecalR50_770/det_825.fits\n",
      "crispy - INFO - The number of input pixels per lenslet is 4.281822\n",
      "crispy - INFO - Using PSFlet gaussian approximation\n",
      "crispy - WARNING - Assuming slices are evenly spread in wavelengths\n",
      "crispy - INFO - Creating Gaussian PSFLet templates\n",
      "crispy - INFO - Writing data to ..//SimResults/detectorFramepoly.fits\n",
      "crispy - INFO - Done.\n",
      "crispy - INFO - Performance: 4 seconds total\n",
      "crispy - INFO - Writing data to ..//ReferenceFiles/wavecalR50_770/det_830.fits\n",
      "crispy - INFO - The number of input pixels per lenslet is 4.281822\n",
      "crispy - INFO - Using PSFlet gaussian approximation\n",
      "crispy - WARNING - Assuming slices are evenly spread in wavelengths\n",
      "crispy - INFO - Creating Gaussian PSFLet templates\n",
      "crispy - INFO - Writing data to ..//SimResults/detectorFramepoly.fits\n",
      "crispy - INFO - Done.\n",
      "crispy - INFO - Performance: 4 seconds total\n",
      "crispy - INFO - Writing data to ..//ReferenceFiles/wavecalR50_770/det_835.fits\n",
      "crispy - INFO - The number of input pixels per lenslet is 4.281822\n",
      "crispy - INFO - Using PSFlet gaussian approximation\n",
      "crispy - WARNING - Assuming slices are evenly spread in wavelengths\n",
      "crispy - INFO - Creating Gaussian PSFLet templates\n",
      "crispy - INFO - Writing data to ..//SimResults/detectorFramepoly.fits\n",
      "crispy - INFO - Done.\n",
      "crispy - INFO - Performance: 4 seconds total\n",
      "crispy - INFO - Writing data to ..//ReferenceFiles/wavecalR50_770/det_840.fits\n"
     ]
    },
    {
     "data": {
      "text/plain": [
       "['..//ReferenceFiles/wavecalR50_770/det_700.fits',\n",
       " '..//ReferenceFiles/wavecalR50_770/det_705.fits',\n",
       " '..//ReferenceFiles/wavecalR50_770/det_710.fits',\n",
       " '..//ReferenceFiles/wavecalR50_770/det_715.fits',\n",
       " '..//ReferenceFiles/wavecalR50_770/det_720.fits',\n",
       " '..//ReferenceFiles/wavecalR50_770/det_725.fits',\n",
       " '..//ReferenceFiles/wavecalR50_770/det_730.fits',\n",
       " '..//ReferenceFiles/wavecalR50_770/det_735.fits',\n",
       " '..//ReferenceFiles/wavecalR50_770/det_740.fits',\n",
       " '..//ReferenceFiles/wavecalR50_770/det_745.fits',\n",
       " '..//ReferenceFiles/wavecalR50_770/det_750.fits',\n",
       " '..//ReferenceFiles/wavecalR50_770/det_755.fits',\n",
       " '..//ReferenceFiles/wavecalR50_770/det_760.fits',\n",
       " '..//ReferenceFiles/wavecalR50_770/det_765.fits',\n",
       " '..//ReferenceFiles/wavecalR50_770/det_770.fits',\n",
       " '..//ReferenceFiles/wavecalR50_770/det_775.fits',\n",
       " '..//ReferenceFiles/wavecalR50_770/det_780.fits',\n",
       " '..//ReferenceFiles/wavecalR50_770/det_785.fits',\n",
       " '..//ReferenceFiles/wavecalR50_770/det_790.fits',\n",
       " '..//ReferenceFiles/wavecalR50_770/det_795.fits',\n",
       " '..//ReferenceFiles/wavecalR50_770/det_800.fits',\n",
       " '..//ReferenceFiles/wavecalR50_770/det_805.fits',\n",
       " '..//ReferenceFiles/wavecalR50_770/det_810.fits',\n",
       " '..//ReferenceFiles/wavecalR50_770/det_815.fits',\n",
       " '..//ReferenceFiles/wavecalR50_770/det_820.fits',\n",
       " '..//ReferenceFiles/wavecalR50_770/det_825.fits',\n",
       " '..//ReferenceFiles/wavecalR50_770/det_830.fits',\n",
       " '..//ReferenceFiles/wavecalR50_770/det_835.fits',\n",
       " '..//ReferenceFiles/wavecalR50_770/det_840.fits']"
      ]
     },
     "execution_count": 7,
     "metadata": {},
     "output_type": "execute_result"
    }
   ],
   "source": [
    "createWavecalFiles(par,lamlist,flux=400,background=10)"
   ]
  },
  {
   "cell_type": "code",
   "execution_count": 8,
   "metadata": {
    "ExecuteTime": {
     "end_time": "2018-10-03T19:33:46.504792Z",
     "start_time": "2018-10-03T19:33:46.500559Z"
    },
    "collapsed": true
   },
   "outputs": [],
   "source": [
    "par.R = 50\n",
    "# par.wavecalDir = ''"
   ]
  },
  {
   "cell_type": "markdown",
   "metadata": {},
   "source": []
  },
  {
   "cell_type": "markdown",
   "metadata": {},
   "source": [
    "Let's take a look at what we did."
   ]
  },
  {
   "cell_type": "code",
   "execution_count": 9,
   "metadata": {
    "ExecuteTime": {
     "end_time": "2018-10-03T19:33:46.513561Z",
     "start_time": "2018-10-03T19:33:46.507953Z"
    }
   },
   "outputs": [
    {
     "name": "stdout",
     "output_type": "stream",
     "text": [
      "['..//ReferenceFiles/wavecalR50_770/hires_psflets_lam745.fits', '..//ReferenceFiles/wavecalR50_770/hires_psflets_lam790.fits', '..//ReferenceFiles/wavecalR50_770/hires_psflets_lam840.fits', '..//ReferenceFiles/wavecalR50_770/det_770.fits', '..//ReferenceFiles/wavecalR50_770/det_750.fits', '..//ReferenceFiles/wavecalR50_770/calib.fits', '..//ReferenceFiles/wavecalR50_770/det_785.fits', '..//ReferenceFiles/wavecalR50_770/hires_psflets_lam765.fits', '..//ReferenceFiles/wavecalR50_770/det_815.fits', '..//ReferenceFiles/wavecalR50_770/hires_psflets_lam725.fits', '..//ReferenceFiles/wavecalR50_770/det_710.fits', '..//ReferenceFiles/wavecalR50_770/hires_psflets_lam820.fits', '..//ReferenceFiles/wavecalR50_770/hires_psflets_lam800.fits', '..//ReferenceFiles/wavecalR50_770/det_730.fits', '..//ReferenceFiles/wavecalR50_770/polychromeR50.fits', '..//ReferenceFiles/wavecalR50_770/hires_psflets_lam705.fits', '..//ReferenceFiles/wavecalR50_770/PSFloc.fits', '..//ReferenceFiles/wavecalR50_770/det_835.fits', '..//ReferenceFiles/wavecalR50_770/det_740.fits', '..//ReferenceFiles/wavecalR50_770/hires_psflets_lam775.fits', '..//ReferenceFiles/wavecalR50_770/det_795.fits', '..//ReferenceFiles/wavecalR50_770/hires_psflets_lam755.fits', '..//ReferenceFiles/wavecalR50_770/det_760.fits', '..//ReferenceFiles/wavecalR50_770/hires_psflets_lam780.fits', '..//ReferenceFiles/wavecalR50_770/det_720.fits', '..//ReferenceFiles/wavecalR50_770/hires_psflets_lam810.fits', '..//ReferenceFiles/wavecalR50_770/det_825.fits', '..//ReferenceFiles/wavecalR50_770/hires_psflets_lam715.fits', '..//ReferenceFiles/wavecalR50_770/hires_psflets_lam735.fits', '..//ReferenceFiles/wavecalR50_770/det_805.fits', '..//ReferenceFiles/wavecalR50_770/hires_psflets_lam830.fits', '..//ReferenceFiles/wavecalR50_770/det_700.fits', '..//ReferenceFiles/wavecalR50_770/det_810.fits', '..//ReferenceFiles/wavecalR50_770/hires_psflets_lam720.fits', '..//ReferenceFiles/wavecalR50_770/det_715.fits', '..//ReferenceFiles/wavecalR50_770/hires_psflets_lam825.fits', '..//ReferenceFiles/wavecalR50_770/hires_psflets_lam805.fits', '..//ReferenceFiles/wavecalR50_770/PSFwidths.fits', '..//ReferenceFiles/wavecalR50_770/det_735.fits', '..//ReferenceFiles/wavecalR50_770/hires_psflets_lam700.fits', '..//ReferenceFiles/wavecalR50_770/det_830.fits', '..//ReferenceFiles/wavecalR50_770/hires_psflets_lam740.fits', '..//ReferenceFiles/wavecalR50_770/hires_psflets_lam795.fits', '..//ReferenceFiles/wavecalR50_770/det_775.fits', '..//ReferenceFiles/wavecalR50_770/det_755.fits', '..//ReferenceFiles/wavecalR50_770/det_780.fits', '..//ReferenceFiles/wavecalR50_770/polychromekeyR50.fits', '..//ReferenceFiles/wavecalR50_770/hires_psflets_lam760.fits', '..//ReferenceFiles/wavecalR50_770/det_725.fits', '..//ReferenceFiles/wavecalR50_770/hires_psflets_lam815.fits', '..//ReferenceFiles/wavecalR50_770/det_820.fits', '..//ReferenceFiles/wavecalR50_770/hires_psflets_lam710.fits', '..//ReferenceFiles/wavecalR50_770/hires_psflets_lam730.fits', '..//ReferenceFiles/wavecalR50_770/det_800.fits', '..//ReferenceFiles/wavecalR50_770/hires_psflets_lam835.fits', '..//ReferenceFiles/wavecalR50_770/det_705.fits', '..//ReferenceFiles/wavecalR50_770/det_745.fits', '..//ReferenceFiles/wavecalR50_770/hires_psflets_lam770.fits', '..//ReferenceFiles/wavecalR50_770/det_840.fits', '..//ReferenceFiles/wavecalR50_770/det_790.fits', '..//ReferenceFiles/wavecalR50_770/hires_psflets_lam750.fits', '..//ReferenceFiles/wavecalR50_770/det_765.fits', '..//ReferenceFiles/wavecalR50_770/hires_psflets_lam785.fits']\n"
     ]
    }
   ],
   "source": [
    "listfiles = glob.glob(par.wavecalDir+'*.fits')\n",
    "print(listfiles)"
   ]
  },
  {
   "cell_type": "markdown",
   "metadata": {},
   "source": [
    "Now let's show some images. We use the Image module of crispy for convenience."
   ]
  },
  {
   "cell_type": "code",
   "execution_count": 10,
   "metadata": {
    "ExecuteTime": {
     "end_time": "2018-10-03T19:33:48.886957Z",
     "start_time": "2018-10-03T19:33:46.516331Z"
    }
   },
   "outputs": [
    {
     "name": "stdout",
     "output_type": "stream",
     "text": [
      "crispy - INFO - Read data from HDU 0 of ..//ReferenceFiles/wavecalR50_770/hires_psflets_lam745.fits\n"
     ]
    },
    {
     "ename": "TypeError",
     "evalue": "Invalid dimensions for image data",
     "output_type": "error",
     "traceback": [
      "\u001b[0;31m---------------------------------------------------------------------------\u001b[0m",
      "\u001b[0;31mTypeError\u001b[0m                                 Traceback (most recent call last)",
      "\u001b[0;32m<ipython-input-10-cc4c3b15a13d>\u001b[0m in \u001b[0;36m<module>\u001b[0;34m()\u001b[0m\n\u001b[1;32m      1\u001b[0m \u001b[0;32mfrom\u001b[0m \u001b[0mcrispy\u001b[0m\u001b[0;34m.\u001b[0m\u001b[0mtools\u001b[0m\u001b[0;34m.\u001b[0m\u001b[0mimage\u001b[0m \u001b[0;32mimport\u001b[0m \u001b[0mImage\u001b[0m\u001b[0;34m\u001b[0m\u001b[0m\n\u001b[1;32m      2\u001b[0m \u001b[0mplt\u001b[0m\u001b[0;34m.\u001b[0m\u001b[0mfigure\u001b[0m\u001b[0;34m(\u001b[0m\u001b[0mfigsize\u001b[0m\u001b[0;34m=\u001b[0m\u001b[0;34m(\u001b[0m\u001b[0;36m10\u001b[0m\u001b[0;34m,\u001b[0m\u001b[0;36m10\u001b[0m\u001b[0;34m)\u001b[0m\u001b[0;34m)\u001b[0m\u001b[0;34m\u001b[0m\u001b[0m\n\u001b[0;32m----> 3\u001b[0;31m \u001b[0mplt\u001b[0m\u001b[0;34m.\u001b[0m\u001b[0mimshow\u001b[0m\u001b[0;34m(\u001b[0m\u001b[0mImage\u001b[0m\u001b[0;34m(\u001b[0m\u001b[0mlistfiles\u001b[0m\u001b[0;34m[\u001b[0m\u001b[0;36m0\u001b[0m\u001b[0;34m]\u001b[0m\u001b[0;34m)\u001b[0m\u001b[0;34m.\u001b[0m\u001b[0mdata\u001b[0m\u001b[0;34m)\u001b[0m\u001b[0;34m\u001b[0m\u001b[0m\n\u001b[0m\u001b[1;32m      4\u001b[0m \u001b[0mplt\u001b[0m\u001b[0;34m.\u001b[0m\u001b[0mcolorbar\u001b[0m\u001b[0;34m(\u001b[0m\u001b[0mfraction\u001b[0m\u001b[0;34m=\u001b[0m\u001b[0;36m0.046\u001b[0m\u001b[0;34m,\u001b[0m \u001b[0mpad\u001b[0m\u001b[0;34m=\u001b[0m\u001b[0;36m0.04\u001b[0m\u001b[0;34m)\u001b[0m\u001b[0;34m\u001b[0m\u001b[0m\n\u001b[1;32m      5\u001b[0m \u001b[0mplt\u001b[0m\u001b[0;34m.\u001b[0m\u001b[0mshow\u001b[0m\u001b[0;34m(\u001b[0m\u001b[0;34m)\u001b[0m\u001b[0;34m\u001b[0m\u001b[0m\n",
      "\u001b[0;32m/Users/mrizzo/anaconda2/lib/python2.7/site-packages/matplotlib/pyplot.pyc\u001b[0m in \u001b[0;36mimshow\u001b[0;34m(X, cmap, norm, aspect, interpolation, alpha, vmin, vmax, origin, extent, shape, filternorm, filterrad, imlim, resample, url, hold, data, **kwargs)\u001b[0m\n\u001b[1;32m   3078\u001b[0m                         \u001b[0mfilternorm\u001b[0m\u001b[0;34m=\u001b[0m\u001b[0mfilternorm\u001b[0m\u001b[0;34m,\u001b[0m \u001b[0mfilterrad\u001b[0m\u001b[0;34m=\u001b[0m\u001b[0mfilterrad\u001b[0m\u001b[0;34m,\u001b[0m\u001b[0;34m\u001b[0m\u001b[0m\n\u001b[1;32m   3079\u001b[0m                         \u001b[0mimlim\u001b[0m\u001b[0;34m=\u001b[0m\u001b[0mimlim\u001b[0m\u001b[0;34m,\u001b[0m \u001b[0mresample\u001b[0m\u001b[0;34m=\u001b[0m\u001b[0mresample\u001b[0m\u001b[0;34m,\u001b[0m \u001b[0murl\u001b[0m\u001b[0;34m=\u001b[0m\u001b[0murl\u001b[0m\u001b[0;34m,\u001b[0m \u001b[0mdata\u001b[0m\u001b[0;34m=\u001b[0m\u001b[0mdata\u001b[0m\u001b[0;34m,\u001b[0m\u001b[0;34m\u001b[0m\u001b[0m\n\u001b[0;32m-> 3080\u001b[0;31m                         **kwargs)\n\u001b[0m\u001b[1;32m   3081\u001b[0m     \u001b[0;32mfinally\u001b[0m\u001b[0;34m:\u001b[0m\u001b[0;34m\u001b[0m\u001b[0m\n\u001b[1;32m   3082\u001b[0m         \u001b[0max\u001b[0m\u001b[0;34m.\u001b[0m\u001b[0m_hold\u001b[0m \u001b[0;34m=\u001b[0m \u001b[0mwashold\u001b[0m\u001b[0;34m\u001b[0m\u001b[0m\n",
      "\u001b[0;32m/Users/mrizzo/anaconda2/lib/python2.7/site-packages/matplotlib/__init__.pyc\u001b[0m in \u001b[0;36minner\u001b[0;34m(ax, *args, **kwargs)\u001b[0m\n\u001b[1;32m   1708\u001b[0m                     warnings.warn(msg % (label_namer, func.__name__),\n\u001b[1;32m   1709\u001b[0m                                   RuntimeWarning, stacklevel=2)\n\u001b[0;32m-> 1710\u001b[0;31m             \u001b[0;32mreturn\u001b[0m \u001b[0mfunc\u001b[0m\u001b[0;34m(\u001b[0m\u001b[0max\u001b[0m\u001b[0;34m,\u001b[0m \u001b[0;34m*\u001b[0m\u001b[0margs\u001b[0m\u001b[0;34m,\u001b[0m \u001b[0;34m**\u001b[0m\u001b[0mkwargs\u001b[0m\u001b[0;34m)\u001b[0m\u001b[0;34m\u001b[0m\u001b[0m\n\u001b[0m\u001b[1;32m   1711\u001b[0m         \u001b[0mpre_doc\u001b[0m \u001b[0;34m=\u001b[0m \u001b[0minner\u001b[0m\u001b[0;34m.\u001b[0m\u001b[0m__doc__\u001b[0m\u001b[0;34m\u001b[0m\u001b[0m\n\u001b[1;32m   1712\u001b[0m         \u001b[0;32mif\u001b[0m \u001b[0mpre_doc\u001b[0m \u001b[0;32mis\u001b[0m \u001b[0mNone\u001b[0m\u001b[0;34m:\u001b[0m\u001b[0;34m\u001b[0m\u001b[0m\n",
      "\u001b[0;32m/Users/mrizzo/anaconda2/lib/python2.7/site-packages/matplotlib/axes/_axes.pyc\u001b[0m in \u001b[0;36mimshow\u001b[0;34m(self, X, cmap, norm, aspect, interpolation, alpha, vmin, vmax, origin, extent, shape, filternorm, filterrad, imlim, resample, url, **kwargs)\u001b[0m\n\u001b[1;32m   5192\u001b[0m                               resample=resample, **kwargs)\n\u001b[1;32m   5193\u001b[0m \u001b[0;34m\u001b[0m\u001b[0m\n\u001b[0;32m-> 5194\u001b[0;31m         \u001b[0mim\u001b[0m\u001b[0;34m.\u001b[0m\u001b[0mset_data\u001b[0m\u001b[0;34m(\u001b[0m\u001b[0mX\u001b[0m\u001b[0;34m)\u001b[0m\u001b[0;34m\u001b[0m\u001b[0m\n\u001b[0m\u001b[1;32m   5195\u001b[0m         \u001b[0mim\u001b[0m\u001b[0;34m.\u001b[0m\u001b[0mset_alpha\u001b[0m\u001b[0;34m(\u001b[0m\u001b[0malpha\u001b[0m\u001b[0;34m)\u001b[0m\u001b[0;34m\u001b[0m\u001b[0m\n\u001b[1;32m   5196\u001b[0m         \u001b[0;32mif\u001b[0m \u001b[0mim\u001b[0m\u001b[0;34m.\u001b[0m\u001b[0mget_clip_path\u001b[0m\u001b[0;34m(\u001b[0m\u001b[0;34m)\u001b[0m \u001b[0;32mis\u001b[0m \u001b[0mNone\u001b[0m\u001b[0;34m:\u001b[0m\u001b[0;34m\u001b[0m\u001b[0m\n",
      "\u001b[0;32m/Users/mrizzo/anaconda2/lib/python2.7/site-packages/matplotlib/image.pyc\u001b[0m in \u001b[0;36mset_data\u001b[0;34m(self, A)\u001b[0m\n\u001b[1;32m    602\u001b[0m         if not (self._A.ndim == 2\n\u001b[1;32m    603\u001b[0m                 or self._A.ndim == 3 and self._A.shape[-1] in [3, 4]):\n\u001b[0;32m--> 604\u001b[0;31m             \u001b[0;32mraise\u001b[0m \u001b[0mTypeError\u001b[0m\u001b[0;34m(\u001b[0m\u001b[0;34m\"Invalid dimensions for image data\"\u001b[0m\u001b[0;34m)\u001b[0m\u001b[0;34m\u001b[0m\u001b[0m\n\u001b[0m\u001b[1;32m    605\u001b[0m \u001b[0;34m\u001b[0m\u001b[0m\n\u001b[1;32m    606\u001b[0m         \u001b[0mself\u001b[0m\u001b[0;34m.\u001b[0m\u001b[0m_imcache\u001b[0m \u001b[0;34m=\u001b[0m \u001b[0mNone\u001b[0m\u001b[0;34m\u001b[0m\u001b[0m\n",
      "\u001b[0;31mTypeError\u001b[0m: Invalid dimensions for image data"
     ]
    },
    {
     "data": {
      "image/png": "[encoded data removed]",
      "text/plain": [
       "<matplotlib.figure.Figure at 0x119853590>"
      ]
     },
     "metadata": {},
     "output_type": "display_data"
    }
   ],
   "source": [
    "from crispy.tools.image import Image\n",
    "plt.figure(figsize=(10,10))\n",
    "plt.imshow(Image(listfiles[0]).data)\n",
    "plt.colorbar(fraction=0.046, pad=0.04)\n",
    "plt.show()"
   ]
  },
  {
   "cell_type": "markdown",
   "metadata": {},
   "source": [
    "And a little zoom in:"
   ]
  },
  {
   "cell_type": "code",
   "execution_count": null,
   "metadata": {
    "ExecuteTime": {
     "end_time": "2018-10-03T19:33:48.888437Z",
     "start_time": "2018-10-03T19:31:18.471Z"
    }
   },
   "outputs": [],
   "source": [
    "plt.figure(figsize=(10,10))\n",
    "plt.imshow(Image(listfiles[0]).data[450:550,450:550])\n",
    "plt.colorbar(fraction=0.046, pad=0.04)\n",
    "plt.show()"
   ]
  },
  {
   "cell_type": "markdown",
   "metadata": {},
   "source": [
    "The PSFLets are slowly changing because the geometry that we chose results in almost integer spacing in both X and Y between neighboring lenslets. If you want more diversity (usually it is preferable to have diversity), then change the lenslet size of detector pitch by a little bit."
   ]
  },
  {
   "cell_type": "markdown",
   "metadata": {},
   "source": []
  },
  {
   "cell_type": "markdown",
   "metadata": {},
   "source": [
    "## Run a complete wavelength calibration"
   ]
  },
  {
   "cell_type": "markdown",
   "metadata": {},
   "source": [
    "Now that we have monochromatic flats, it is time to run a wavelength calibration, just like one would do in any IFS. The function we need is in crispy.tools.wavecal. This is a much more complicated function."
   ]
  },
  {
   "cell_type": "code",
   "execution_count": null,
   "metadata": {
    "ExecuteTime": {
     "end_time": "2018-10-03T19:33:48.889969Z",
     "start_time": "2018-10-03T19:31:18.556Z"
    }
   },
   "outputs": [],
   "source": [
    "from crispy.tools.wavecal import buildcalibrations\n",
    "help(buildcalibrations)"
   ]
  },
  {
   "cell_type": "code",
   "execution_count": null,
   "metadata": {
    "ExecuteTime": {
     "end_time": "2018-10-03T19:33:48.891296Z",
     "start_time": "2018-10-03T19:31:18.558Z"
    }
   },
   "outputs": [],
   "source": [
    "# we can check that the file list has been loaded:\n",
    "log.info('Wavecal files: %s' % par.filelist)"
   ]
  },
  {
   "cell_type": "markdown",
   "metadata": {},
   "source": [
    "One important aspect is that we can choose to use the same models for PSFLets as the one that was used to construct the monochromatic flatfields. This basically assumes that we have 100% knowledge of all the PSFLets, and can be set if par.gaussian_hires=True. Otherwise, we can actually use the deconvolution functions within crispy to approximate the lenslet PSFLets, by dividing up the detector into nsubarr^2 regions and averaging the PSFLets over these regions. Let's assume for now that we have excellent models of our PSFLets."
   ]
  },
  {
   "cell_type": "code",
   "execution_count": null,
   "metadata": {
    "ExecuteTime": {
     "end_time": "2018-10-03T19:33:48.892717Z",
     "start_time": "2018-10-03T19:31:18.590Z"
    },
    "collapsed": true
   },
   "outputs": [],
   "source": [
    "par.gaussian_hires=True # assuming we know the PSFLets perfectly a priori"
   ]
  },
  {
   "cell_type": "markdown",
   "metadata": {},
   "source": [
    "If you choose to change that to False, you should also change the following nsubarr parameter to >4 since there is likely variation of the PSFLet across the field of view. Let's go! This takes a few minutes. It will finish by a parallel process so don't worry if your computer heats up a bit."
   ]
  },
  {
   "cell_type": "code",
   "execution_count": null,
   "metadata": {
    "ExecuteTime": {
     "end_time": "2018-10-03T19:33:48.894861Z",
     "start_time": "2018-10-03T19:31:18.612Z"
    },
    "scrolled": false
   },
   "outputs": [],
   "source": [
    "buildcalibrations(par,\n",
    "                    inspect=False,         # if True, constructs a bunch of images to verify a good calibration\n",
    "                    inspect_first=True,         # if True, constructs an image to verify a good calibration\n",
    "                    genwavelengthsol=True, # Compute wavelength at the center of all pixels\n",
    "                    makehiresPSFlets=True, # this requires very high SNR on the monochromatic frames\n",
    "                    makePSFWidths=True,\n",
    "                    makePolychrome=True,   # This is needed to use least squares extraction\n",
    "                    upsample=3,            # upsampling factor of the high-resolution PSFLets\n",
    "                    nsubarr=3,             # the detector is divided into nsubarr^2 regions for PSFLet averaging\n",
    "                    apodize=False,          # to match PSFlet spot locations, only use the inner circular part of the \n",
    "                                           #detector, hence discarding the corners of the detector where lenslets are \n",
    "                                           #distorted\n",
    "                    finecal=False\n",
    "                  ) "
   ]
  },
  {
   "cell_type": "markdown",
   "metadata": {},
   "source": [
    "Let's take a look at the files we constructed:"
   ]
  },
  {
   "cell_type": "code",
   "execution_count": null,
   "metadata": {
    "ExecuteTime": {
     "end_time": "2018-10-03T19:33:48.897072Z",
     "start_time": "2018-10-03T19:31:18.635Z"
    }
   },
   "outputs": [],
   "source": [
    "os.listdir(par.wavecalDir)"
   ]
  },
  {
   "cell_type": "markdown",
   "metadata": {},
   "source": [
    "Some of these files are described and explained in the papers associated with this work. "
   ]
  },
  {
   "cell_type": "markdown",
   "metadata": {},
   "source": [
    "## Construct fields to extract"
   ]
  },
  {
   "cell_type": "markdown",
   "metadata": {},
   "source": [
    "Now, let's construct a field that we will want to extract. For example, we will use a flatfield."
   ]
  },
  {
   "cell_type": "code",
   "execution_count": null,
   "metadata": {
    "ExecuteTime": {
     "end_time": "2018-10-03T19:33:48.898847Z",
     "start_time": "2018-10-03T19:31:18.702Z"
    }
   },
   "outputs": [],
   "source": [
    "from crispy.unitTests import testCreateFlatfield\n",
    "help(testCreateFlatfield)"
   ]
  },
  {
   "cell_type": "code",
   "execution_count": null,
   "metadata": {
    "ExecuteTime": {
     "end_time": "2018-10-03T19:33:48.901197Z",
     "start_time": "2018-10-03T19:31:18.703Z"
    }
   },
   "outputs": [],
   "source": [
    "par.savePoly=True\n",
    "par.saveRotatedInput = True\n",
    "testCreateFlatfield(par,npix=600,maxflux=50, bg=50, useQE=False)"
   ]
  },
  {
   "cell_type": "code",
   "execution_count": null,
   "metadata": {
    "ExecuteTime": {
     "end_time": "2018-10-03T19:33:48.903582Z",
     "start_time": "2018-10-03T19:31:18.704Z"
    }
   },
   "outputs": [],
   "source": [
    "from crispy.tools.image import Image\n",
    "plt.figure(figsize=(10,10))\n",
    "plt.imshow(Image(par.unitTestsOutputs+'/flatfield.fits').data)\n",
    "plt.show()\n",
    "plt.figure(figsize=(10,10))\n",
    "plt.imshow(Image(par.unitTestsOutputs+'/flatfield.fits').data[500:550,500:550])\n",
    "plt.axis('off')\n",
    "plt.show()"
   ]
  },
  {
   "cell_type": "markdown",
   "metadata": {
    "collapsed": true
   },
   "source": [
    "## Reduce the flatfield!"
   ]
  },
  {
   "cell_type": "code",
   "execution_count": null,
   "metadata": {
    "ExecuteTime": {
     "end_time": "2018-10-03T19:33:48.906003Z",
     "start_time": "2018-10-03T19:31:18.727Z"
    }
   },
   "outputs": [],
   "source": [
    "from crispy.tools.image import Image\n",
    "from crispy.IFS import reduceIFSMap\n",
    "help(reduceIFSMap)\n",
    "detector = reduceIFSMap(par,par.unitTestsOutputs+'/flatfield.fits',\n",
    "                        method='lstsq_conv',\n",
    "                        smoothbad=False,\n",
    "                        pixnoise=50,\n",
    "                        fitbkgnd=True,\n",
    "                        medsub=False,\n",
    "                        gain=1.0,\n",
    "                        niter=3\n",
    "                       )"
   ]
  },
  {
   "cell_type": "markdown",
   "metadata": {
    "collapsed": true
   },
   "source": [
    "Let's plot what we have got"
   ]
  },
  {
   "cell_type": "code",
   "execution_count": null,
   "metadata": {
    "ExecuteTime": {
     "end_time": "2018-10-03T19:33:48.908243Z",
     "start_time": "2018-10-03T19:31:18.750Z"
    },
    "scrolled": false
   },
   "outputs": [],
   "source": [
    "from crispy.tools.image import Image\n",
    "ftsize = 15\n",
    "cmap='viridis'\n",
    "plt.figure(figsize=(10,10))\n",
    "# plt.imshow(Image(par.exportDir+'/flatfield_red_lstsq_conv.fits').data[5],cmap=cmap)\n",
    "plt.imshow(Image(par.exportDir+'/flatfield_red_lstsq.fits').data[5],cmap=cmap)\n",
    "plt.axis('off')\n",
    "plt.colorbar(fraction=0.046, pad=0.04)\n",
    "plt.title('Data',fontsize=ftsize)\n",
    "plt.show()\n"
   ]
  },
  {
   "cell_type": "code",
   "execution_count": null,
   "metadata": {
    "ExecuteTime": {
     "end_time": "2018-10-03T19:33:48.910270Z",
     "start_time": "2018-10-03T19:31:18.752Z"
    }
   },
   "outputs": [],
   "source": [
    "from astropy.io import fits\n",
    "cmap='inferno'\n",
    "ftsize = 20\n",
    "BB = fits.getdata(par.unitTestsOutputs+\"/flatfield.fits\")\n",
    "BBres = fits.getdata(par.exportDir+'/flatfield_red_lstsq_conv_resid.fits')\n",
    "BBmod = fits.getdata(par.exportDir+'/flatfield_red_lstsq_conv_model.fits')\n",
    "# BBres = fits.getdata(par.exportDir+'/flatfield_red_lstsq_resid.fits')\n",
    "# BBmod = fits.getdata(par.exportDir+'/flatfield_red_lstsq_model.fits')\n",
    "plt.figure(figsize=(12,10))\n",
    "plt.subplot(131)\n",
    "plt.imshow(BB[850:-100,150:300].T,vmin=0,vmax=np.amax(BB[850:-100,150:300]),cmap=cmap)\n",
    "plt.axis('off')\n",
    "plt.colorbar(fraction=0.046, pad=0.04,orientation='horizontal')\n",
    "plt.title('Data',fontsize=ftsize)\n",
    "plt.subplot(132)\n",
    "plt.imshow(BBmod[850:-100,150:300].T,vmin=0,vmax=np.amax(BB[850:-100,150:300]),cmap=cmap)\n",
    "plt.axis('off')\n",
    "plt.colorbar(fraction=0.046, pad=0.04,orientation='horizontal')\n",
    "plt.title('Model',fontsize=ftsize)\n",
    "plt.subplot(133)\n",
    "plt.imshow(100*BBres[850:-100,150:300].T/np.amax(BB[850:-120,150:300].T),cmap=cmap)\n",
    "# plt.imshow(BBres[850:-100,150:300].T,cmap=cmap)\n",
    "plt.axis('off')\n",
    "plt.colorbar(fraction=0.046, pad=0.04,orientation='horizontal')\n",
    "plt.title('Residuals (\\% of data max)',fontsize=ftsize)\n",
    "plt.tight_layout()\n",
    "plt.savefig('/Users/mrizzo/Downloads/DataModelResiduals.pdf',\n",
    "            dpi=150, bbox_inches='tight')\n",
    "plt.show()"
   ]
  },
  {
   "cell_type": "code",
   "execution_count": null,
   "metadata": {
    "ExecuteTime": {
     "end_time": "2018-10-03T19:33:48.912620Z",
     "start_time": "2018-10-03T19:31:18.753Z"
    }
   },
   "outputs": [],
   "source": [
    "from astropy.io import fits\n",
    "cmap='inferno'\n",
    "ftsize = 20\n",
    "BB = fits.getdata(par.unitTestsOutputs+\"/flatfield.fits\")\n",
    "BBres = fits.getdata(par.exportDir+'/flatfield_red_lstsq_conv_resid.fits')\n",
    "BBmod = fits.getdata(par.exportDir+'/flatfield_red_lstsq_conv_model.fits')\n",
    "# BBres = fits.getdata(par.exportDir+'/flatfield_red_lstsq_resid.fits')\n",
    "# BBmod = fits.getdata(par.exportDir+'/flatfield_red_lstsq_model.fits')\n",
    "# plt.figure(figsize=(12,7))\n",
    "fig, axarr = plt.subplots(3, 1, figsize=(10, 10))\n",
    "im = axarr[0].imshow(BB[850:-100,150:300],vmin=-10.,vmax=np.amax(BB[850:-100,150:300]),cmap=cmap)\n",
    "axarr[0].axis('off')\n",
    "# axarr[0].colorbar(fraction=0.046, pad=0.04,orientation='vertical')\n",
    "axarr[0].set_title('Data',fontsize=ftsize)\n",
    "# plt.subplot(312)\n",
    "axarr[1].imshow(BBmod[850:-100,150:300],vmin=-10.,vmax=np.amax(BB[850:-100,150:300]),cmap=cmap)\n",
    "axarr[1].axis('off')\n",
    "# plt.colorbar(fraction=0.046, pad=0.04,orientation='vertical')\n",
    "axarr[1].set_title('Model',fontsize=ftsize)\n",
    "# plt.subplot(313)\n",
    "im2 = axarr[2].imshow(100*BBres[850:-100,150:300]/np.amax(BB[850:-120,150:300]),cmap=cmap)\n",
    "# plt.imshow(BBres[850:-100,150:300].T,cmap=cmap)\n",
    "axarr[2].axis('off')\n",
    "# plt.colorbar(fraction=0.046, pad=0.04,orientation='vertical')\n",
    "axarr[2].set_title('Residuals (\\% of data max)',fontsize=ftsize)\n",
    "# plt.tight_layout()\n",
    "\n",
    "# fig.subplots_adjust(right=0.6, wspace=0.1, hspace=0.25)\n",
    "cbar_ax = fig.add_axes([0.75, 0.42, 0.05, 0.44])\n",
    "fig.colorbar(im, cax=cbar_ax)\n",
    "cbar_ax = fig.add_axes([0.75, 0.16, 0.05, 0.15])\n",
    "fig.colorbar(im2, cax=cbar_ax)\n",
    "\n",
    "plt.savefig('/Users/mrizzo/Downloads/DataModelResiduals.pdf',\n",
    "            dpi=150, bbox_inches='tight')\n",
    "plt.show()"
   ]
  },
  {
   "cell_type": "markdown",
   "metadata": {},
   "source": [
    "## Extraction metric"
   ]
  },
  {
   "cell_type": "code",
   "execution_count": null,
   "metadata": {
    "ExecuteTime": {
     "end_time": "2018-10-03T19:33:48.914754Z",
     "start_time": "2018-10-03T19:31:18.785Z"
    }
   },
   "outputs": [],
   "source": [
    "plt.figure(figsize=(7,5))\n",
    "# plt.title(r'$\\chi^2$ map for all microspectra')\n",
    "plt.imshow(Image(par.exportDir+'/flatfield_red_lstsq_chisq.fits').data,cmap=cmap)\n",
    "plt.colorbar(fraction=0.046, pad=0.04)\n",
    "plt.axis('off')\n",
    "plt.savefig('/Users/mrizzo/Downloads/Chi2Map.pdf',\n",
    "            dpi=150, bbox_inches='tight')\n",
    "img = Image(par.exportDir+'/flatfield_red_lstsq_chisq.fits').data\n",
    "print(np.nanmean(img), np.nanstd(img))"
   ]
  },
  {
   "cell_type": "markdown",
   "metadata": {},
   "source": [
    "If we want to know the correspondence between slice and wavelength, we can do the following"
   ]
  },
  {
   "cell_type": "code",
   "execution_count": null,
   "metadata": {
    "ExecuteTime": {
     "end_time": "2018-10-03T19:33:48.917185Z",
     "start_time": "2018-10-03T19:31:18.809Z"
    }
   },
   "outputs": [],
   "source": [
    "from crispy.tools.reduction import calculateWaveList\n",
    "lam_midpts,lam_endpts = calculateWaveList(par,method='lstsq')\n",
    "print('Wavelengths at midpoints for lstsq (nm): ',lam_midpts)\n",
    "print('Wavelengths at endpoints for lstsq (nm): ',lam_endpts)\n",
    "lam_midpts,lam_endpts = calculateWaveList(par,method='optext')\n",
    "print('Wavelengths at midpoints for optext (nm): ',lam_midpts)\n",
    "print('Wavelengths at endpoints for optext (nm): ',lam_endpts)"
   ]
  },
  {
   "cell_type": "markdown",
   "metadata": {},
   "source": [
    "## Start from known wavecal"
   ]
  },
  {
   "cell_type": "markdown",
   "metadata": {},
   "source": [
    "In the case where we want to use another wavecal (e.g. obtained from lab measurements), we can set this up with par.PSFLetPositions = True"
   ]
  },
  {
   "cell_type": "code",
   "execution_count": null,
   "metadata": {
    "ExecuteTime": {
     "end_time": "2018-10-03T19:33:48.919257Z",
     "start_time": "2018-10-03T19:31:18.860Z"
    },
    "collapsed": true
   },
   "outputs": [],
   "source": [
    "# par.PSFLetPositions = True\n",
    "# par.wavecalDir = par.prefix+'/Calibra_170425/'\n",
    "\n",
    "# watch out to be sure you have the correct R that matches the wavecal! In this case, it is R=70\n",
    "#par.R = 70"
   ]
  },
  {
   "cell_type": "markdown",
   "metadata": {},
   "source": [
    "Repeat the flatfield exercise"
   ]
  },
  {
   "cell_type": "code",
   "execution_count": null,
   "metadata": {
    "ExecuteTime": {
     "end_time": "2018-10-03T19:33:48.921397Z",
     "start_time": "2018-10-03T19:31:18.888Z"
    },
    "collapsed": true
   },
   "outputs": [],
   "source": [
    "#from crispy.unitTests import testCreateFlatfield\n",
    "#testCreateFlatfield(par,useQE=False)"
   ]
  },
  {
   "cell_type": "code",
   "execution_count": null,
   "metadata": {
    "ExecuteTime": {
     "end_time": "2018-10-03T19:33:48.923978Z",
     "start_time": "2018-10-03T19:31:18.890Z"
    },
    "collapsed": true
   },
   "outputs": [],
   "source": [
    "# par.PSFLetPositions = False\n",
    "# par.R=50\n",
    "# par.wavecalDir = par.prefix+'/wavecalR50_SC/'"
   ]
  },
  {
   "cell_type": "code",
   "execution_count": null,
   "metadata": {
    "ExecuteTime": {
     "end_time": "2018-10-03T19:33:48.926043Z",
     "start_time": "2018-10-03T19:31:18.892Z"
    },
    "collapsed": true
   },
   "outputs": [],
   "source": [
    "# from crispy.unitTests import testCrosstalk\n",
    "# testCrosstalk(par,pixval=25,method='optext',useQE=False)\n",
    "# extracted = reduceIFSMap(par,par.unitTestsOutputs+'/crosstalk.fits',method='lstsq',smoothbad=False)\n"
   ]
  },
  {
   "cell_type": "code",
   "execution_count": null,
   "metadata": {
    "ExecuteTime": {
     "end_time": "2018-10-03T19:33:48.928405Z",
     "start_time": "2018-10-03T19:31:18.893Z"
    },
    "collapsed": true
   },
   "outputs": [],
   "source": [
    "# extracted = reduceIFSMap(par,par.unitTestsOutputs+'/flatfield.fits',method='lstsq',smoothbad=False)"
   ]
  },
  {
   "cell_type": "markdown",
   "metadata": {},
   "source": [
    "## Scratch - Explore the extraction"
   ]
  },
  {
   "cell_type": "code",
   "execution_count": null,
   "metadata": {
    "ExecuteTime": {
     "end_time": "2018-10-03T19:33:48.930368Z",
     "start_time": "2018-10-03T19:31:18.919Z"
    }
   },
   "outputs": [],
   "source": [
    "from crispy.tools.reduction import get_cutout,fit_cutout\n",
    "polychromeR = fits.open(\n",
    "                par.wavecalDir +\n",
    "                'polychromeR%d.fits.gz' %\n",
    "                (par.R))\n",
    "psflets = polychromeR[0].data\n",
    "polychromekey = fits.open(\n",
    "    par.wavecalDir +\n",
    "    'polychromekeyR%d.fits' %\n",
    "    (par.R))\n",
    "xindx = polychromekey[1].data\n",
    "yindx = polychromekey[2].data\n",
    "good = polychromekey[3].data\n",
    "ifsimage = Image(par.unitTestsOutputs+'/flatfield.fits')\n",
    "\n",
    "\n",
    "cube = np.zeros((psflets.shape[0], par.nlens, par.nlens))\n",
    "ivarcube = np.zeros((psflets.shape[0], par.nlens, par.nlens))\n",
    "\n",
    "model = np.zeros(ifsimage.data.shape)\n",
    "resid = ifsimage.data.copy()\n",
    "\n",
    "i=54\n",
    "j=54\n",
    "normpsflets=False\n",
    "dy=3\n",
    "subim, psflet_subarr, [y0, y1, x0, x1] = get_cutout(\n",
    "    ifsimage, xindx[:, i, j], yindx[:, i, j], psflets, dy, normpsflets=normpsflets)\n"
   ]
  },
  {
   "cell_type": "code",
   "execution_count": null,
   "metadata": {
    "ExecuteTime": {
     "end_time": "2018-10-03T19:33:48.932875Z",
     "start_time": "2018-10-03T19:31:18.920Z"
    }
   },
   "outputs": [],
   "source": [
    "plt.imshow(subim)\n",
    "plt.colorbar(orientation='horizontal')"
   ]
  },
  {
   "cell_type": "code",
   "execution_count": null,
   "metadata": {
    "ExecuteTime": {
     "end_time": "2018-10-03T19:33:48.935151Z",
     "start_time": "2018-10-03T19:31:18.922Z"
    },
    "collapsed": true
   },
   "outputs": [],
   "source": [
    "cube[:, j, i], ivarcube[:, j, i], modelij, chi2ij = fit_cutout(\n",
    "    subim.copy(), psflet_subarr.copy(), mode='lstsq_conv',\n",
    "    niter=3, pixnoise=10.0)\n"
   ]
  },
  {
   "cell_type": "code",
   "execution_count": null,
   "metadata": {
    "ExecuteTime": {
     "end_time": "2018-10-03T19:33:48.937309Z",
     "start_time": "2018-10-03T19:31:18.924Z"
    }
   },
   "outputs": [],
   "source": [
    "plt.imshow(modelij)\n",
    "plt.colorbar(orientation='horizontal')\n",
    "print chi2ij"
   ]
  },
  {
   "cell_type": "code",
   "execution_count": null,
   "metadata": {
    "ExecuteTime": {
     "end_time": "2018-10-03T19:33:48.939651Z",
     "start_time": "2018-10-03T19:31:18.926Z"
    }
   },
   "outputs": [],
   "source": [
    "plt.imshow(subim-modelij)\n",
    "print np.std(subim-modelij)\n",
    "plt.colorbar(orientation='horizontal')"
   ]
  },
  {
   "cell_type": "code",
   "execution_count": null,
   "metadata": {
    "ExecuteTime": {
     "end_time": "2018-10-03T19:33:48.941924Z",
     "start_time": "2018-10-03T19:31:18.929Z"
    }
   },
   "outputs": [],
   "source": [
    "from crispy.tools.reduction import lstsqExtract\n",
    "from crispy.tools.image import Image\n",
    "ifsimage = Image(par.unitTestsOutputs+'/flatfield.fits')\n",
    "cube, model, resid = lstsqExtract(par, par.exportDir+'/test', ifsimage, smoothandmask=False, ivar=True, dy=3,\n",
    "                 refine=False, hires=False, upsample=3, fitbkgnd=True,\n",
    "                 specialPolychrome=None, returnall=True, mode='lstsq',\n",
    "                 niter=3, pixnoise=10.0, normpsflets=False, gain=1.0)"
   ]
  }
 ],
 "metadata": {
  "kernelspec": {
   "display_name": "Python 2",
   "language": "python",
   "name": "python2"
  },
  "language_info": {
   "codemirror_mode": {
    "name": "ipython",
    "version": 2
   },
   "file_extension": ".py",
   "mimetype": "text/x-python",
   "name": "python",
   "nbconvert_exporter": "python",
   "pygments_lexer": "ipython2",
   "version": "2.7.15"
  },
  "latex_envs": {
   "LaTeX_envs_menu_present": true,
   "autoclose": false,
   "autocomplete": true,
   "bibliofile": "biblio.bib",
   "cite_by": "apalike",
   "current_citInitial": 1,
   "eqLabelWithNumbers": true,
   "eqNumInitial": 1,
   "hotkeys": {
    "equation": "Ctrl-E",
    "itemize": "Ctrl-I"
   },
   "labels_anchors": false,
   "latex_user_defs": false,
   "report_style_numbering": false,
   "user_envs_cfg": false
  },
  "toc": {
   "nav_menu": {},
   "number_sections": true,
   "sideBar": true,
   "skip_h1_title": false,
   "title_cell": "Table of Contents",
   "title_sidebar": "Contents",
   "toc_cell": false,
   "toc_position": {
    "height": "calc(100% - 180px)",
    "left": "10px",
    "top": "150px",
    "width": "512px"
   },
   "toc_section_display": true,
   "toc_window_display": true
  },
  "varInspector": {
   "cols": {
    "lenName": 16,
    "lenType": 16,
    "lenVar": 40
   },
   "kernels_config": {
    "python": {
     "delete_cmd_postfix": "",
     "delete_cmd_prefix": "del ",
     "library": "var_list.py",
     "varRefreshCmd": "print(var_dic_list())"
    },
    "r": {
     "delete_cmd_postfix": ") ",
     "delete_cmd_prefix": "rm(",
     "library": "var_list.r",
     "varRefreshCmd": "cat(var_dic_list()) "
    }
   },
   "types_to_exclude": [
    "module",
    "function",
    "builtin_function_or_method",
    "instance",
    "_Feature"
   ],
   "window_display": false
  }
 },
 "nbformat": 4,
 "nbformat_minor": 2
}
